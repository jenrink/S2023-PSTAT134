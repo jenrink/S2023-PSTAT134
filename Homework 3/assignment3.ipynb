{
 "cells": [
  {
   "cell_type": "code",
   "execution_count": 1,
   "metadata": {
    "deletable": false,
    "editable": false,
    "tags": []
   },
   "outputs": [],
   "source": [
    "# Initialize Otter\n",
    "import otter\n",
    "grader = otter.Notebook(\"assignment3.ipynb\")"
   ]
  },
  {
   "cell_type": "markdown",
   "metadata": {},
   "source": [
    "***Jennifer Rink***"
   ]
  },
  {
   "cell_type": "markdown",
   "metadata": {
    "toc": true
   },
   "source": [
    "<h1>Table of Contents<span class=\"tocSkip\"></span></h1>\n",
    "<div class=\"toc\"><ul class=\"toc-item\"><li><span><a href=\"#Assignment-4:-Modeling-and-Optimization\" data-toc-modified-id=\"Assignment-4:-Modeling-and-Optimization-1\">Assignment 4: Modeling and Optimization</a></span></li><li><span><a href=\"#Questions-1-3:-Resource-Allocation-Problem\" data-toc-modified-id=\"Questions-1-3:-Resource-Allocation-Problem-2\">Questions 1-3: Resource Allocation Problem</a></span><ul class=\"toc-item\"><li><span><a href=\"#Question-1:-Resource-Constraints\" data-toc-modified-id=\"Question-1:-Resource-Constraints-2.1\">Question 1: Resource Constraints</a></span><ul class=\"toc-item\"><li><span><a href=\"#Question-1.a:-Modeling-Resource-Usage\" data-toc-modified-id=\"Question-1.a:-Modeling-Resource-Usage-2.1.1\">Question 1.a: Modeling Resource Usage</a></span></li><li><span><a href=\"#Question-1.b:--Resource-Usage-vs.-Total-Resource-Constraint\" data-toc-modified-id=\"Question-1.b:--Resource-Usage-vs.-Total-Resource-Constraint-2.1.2\">Question 1.b:  Resource Usage vs. Total Resource Constraint</a></span></li><li><span><a href=\"#Question-1.c:-Feasible-Region-Boundary\" data-toc-modified-id=\"Question-1.c:-Feasible-Region-Boundary-2.1.3\">Question 1.c: Feasible Region Boundary</a></span></li><li><span><a href=\"#Question-1.d:-Interior-of-Feasible-Region\" data-toc-modified-id=\"Question-1.d:-Interior-of-Feasible-Region-2.1.4\">Question 1.d: Interior of Feasible Region</a></span></li><li><span><a href=\"#Question-1.e:-Visualizing-the-Feasible-Region\" data-toc-modified-id=\"Question-1.e:-Visualizing-the-Feasible-Region-2.1.5\">Question 1.e: Visualizing the Feasible Region</a></span></li></ul></li><li><span><a href=\"#Question-2:-Objective-Function\" data-toc-modified-id=\"Question-2:-Objective-Function-2.2\">Question 2: Objective Function</a></span><ul class=\"toc-item\"><li><span><a href=\"#Question-2.a:-Defining-Objective-Function\" data-toc-modified-id=\"Question-2.a:-Defining-Objective-Function-2.2.1\">Question 2.a: Defining Objective Function</a></span></li><li><span><a href=\"#Question-2.b:-Direction-of-Steepest-Increase\" data-toc-modified-id=\"Question-2.b:-Direction-of-Steepest-Increase-2.2.2\">Question 2.b: Direction of Steepest Increase</a></span></li></ul></li><li><span><a href=\"#Question-3:-Putting-Pieces-Together\" data-toc-modified-id=\"Question-3:-Putting-Pieces-Together-2.3\">Question 3: Putting Pieces Together</a></span><ul class=\"toc-item\"><li><span><a href=\"#Question-3.a:-Standard-Form-of-a-Linear-Programming-Problem\" data-toc-modified-id=\"Question-3.a:-Standard-Form-of-a-Linear-Programming-Problem-2.3.1\">Question 3.a: Standard Form of a Linear Programming Problem</a></span></li><li><span><a href=\"#Question-3.b:-Computing-the-Numerical-Solution\" data-toc-modified-id=\"Question-3.b:-Computing-the-Numerical-Solution-2.3.2\">Question 3.b: Computing the Numerical Solution</a></span></li><li><span><a href=\"#Question-3.c:-Plotting-the-optimal-solution\" data-toc-modified-id=\"Question-3.c:-Plotting-the-optimal-solution-2.3.3\">Question 3.c: Plotting the optimal solution</a></span></li></ul></li></ul></li><li><span><a href=\"#Question-4:-Nutrition-Problem\" data-toc-modified-id=\"Question-4:-Nutrition-Problem-3\">Question 4: Nutrition Problem</a></span><ul class=\"toc-item\"><li><ul class=\"toc-item\"><li><span><a href=\"#Question-4.a:-Define-Constraints\" data-toc-modified-id=\"Question-4.a:-Define-Constraints-3.0.1\">Question 4.a: Define Constraints</a></span></li><li><span><a href=\"#Question-4.b:-Create-Python-Variables\" data-toc-modified-id=\"Question-4.b:-Create-Python-Variables-3.0.2\">Question 4.b: Create Python Variables</a></span></li><li><span><a href=\"#Question-4.c:-Solve-the-Problem\" data-toc-modified-id=\"Question-4.c:-Solve-the-Problem-3.0.3\">Question 4.c: Solve the Problem</a></span></li><li><span><a href=\"#Question-4.d:-Interpreting-the-Results\" data-toc-modified-id=\"Question-4.d:-Interpreting-the-Results-3.0.4\">Question 4.d: Interpreting the Results</a></span></li></ul></li></ul></li></ul></div>"
   ]
  },
  {
   "cell_type": "markdown",
   "metadata": {},
   "source": [
    "# Assignment 3: Modeling and Optimization"
   ]
  },
  {
   "cell_type": "markdown",
   "metadata": {},
   "source": [
    "Mathematical modeling of a problem at hand give us a systematic way of finding a solution. For example, a maximum likelihood estimator (assuming it exists), $\\hat\\theta$, is a method for finding the parameter that maximizes the likelihood of the data $L_n$:\n",
    "$$L_{n}(\\hat{\\theta} ; x_1, x_2, \\dots, x_n)=\\max _{\\theta \\in \\Theta} L_{n}(\\theta ; x_1, x_2, \\dots, x_n)$$\n",
    "Data $x_1, x_2, \\dots$, set of feasible parameters $\\Theta$, and likelihood function $L_n$ are given. We find the parameter that \"best\" describe the data in the context of the likelihood function.\n",
    "\n",
    "Many other applications of optimization exists, and this assignment will give a hands-on introduction to a simple linear programming problem."
   ]
  },
  {
   "cell_type": "code",
   "execution_count": 2,
   "metadata": {
    "tags": []
   },
   "outputs": [
    {
     "name": "stdout",
     "output_type": "stream",
     "text": [
      "Collecting cvxpy\n",
      "  Using cached cvxpy-1.3.1-cp310-cp310-manylinux_2_17_x86_64.manylinux2014_x86_64.whl (4.0 MB)\n",
      "Requirement already satisfied: numpy>=1.15 in /opt/conda/lib/python3.10/site-packages (from cvxpy) (1.23.5)\n",
      "Collecting scs>=1.1.6\n",
      "  Using cached scs-3.2.3-cp310-cp310-manylinux_2_17_x86_64.manylinux2014_x86_64.whl (10.7 MB)\n",
      "Collecting ecos>=2\n",
      "  Using cached ecos-2.0.12-cp310-cp310-manylinux_2_17_x86_64.manylinux2014_x86_64.whl (220 kB)\n",
      "Collecting osqp>=0.4.1\n",
      "  Using cached osqp-0.6.3-cp310-cp310-manylinux_2_5_x86_64.manylinux1_x86_64.manylinux_2_17_x86_64.manylinux2014_x86_64.whl (298 kB)\n",
      "Requirement already satisfied: scipy>=1.1.0 in /opt/conda/lib/python3.10/site-packages (from cvxpy) (1.10.1)\n",
      "Requirement already satisfied: setuptools>65.5.1 in /opt/conda/lib/python3.10/site-packages (from cvxpy) (67.6.0)\n",
      "Collecting qdldl\n",
      "  Using cached qdldl-0.1.7-cp310-cp310-manylinux_2_17_x86_64.manylinux2014_x86_64.whl (1.0 MB)\n",
      "Installing collected packages: scs, qdldl, ecos, osqp, cvxpy\n",
      "Successfully installed cvxpy-1.3.1 ecos-2.0.12 osqp-0.6.3 qdldl-0.1.7 scs-3.2.3\n",
      "Note: you may need to restart the kernel to use updated packages.\n"
     ]
    }
   ],
   "source": [
    "pip install cvxpy"
   ]
  },
  {
   "cell_type": "code",
   "execution_count": 3,
   "metadata": {
    "tags": []
   },
   "outputs": [],
   "source": [
    "import cvxpy as cp\n",
    "import numpy as np\n",
    "import pandas as pd\n",
    "%matplotlib inline\n",
    "import matplotlib.pyplot as plt\n",
    "import seaborn as sns\n",
    "sns.set_style(\"whitegrid\")"
   ]
  },
  {
   "cell_type": "markdown",
   "metadata": {
    "deletable": false
   },
   "source": [
    "<!-- BEGIN QUESTION -->\n",
    "\n",
    "# Questions 1-3: Resource Allocation Problem\n",
    "\n",
    "Hint: refer to Chapter 2.B of [Introduction to Linear and Matrix Algebra](https://search.library.ucsb.edu/permalink/01UCSB_INST/1876c7q/cdi_springer_books_10_1007_978_3_030_52811_9) for examples.\n",
    "\n",
    "You are in charge of a company that makes two hot sauces: $x_1$ liters of Kapatio and $x_2$ liters of Zriracha. We will use optimization technique to find the \"best\" manufacturing strategy given our resource constraints.\n",
    "\n",
    "First, we need to define what we mean by \"best\" strategy. In this scenario, the goal is to obtain the highest revenue possible. While doing so, there are resource constraints we must satisfy. \n",
    "\n",
    "\n",
    "For example, in order to manufacture these two hot sauce products, different amount of peppers and vineger are needed. Also, we have only so much total resource available.\n",
    "\n",
    "Ingridients | Kapatio | Zriracha | Total Available\n",
    "----------- | ------- | -------- | ------------------\n",
    "Pepper      | 5       | 7        | 30\n",
    "Vineger     | 4       | 2        | 12\n",
    "\n",
    "## Question 1: Resource Constraints\n",
    "\n",
    "### Question 1.a: Modeling Resource Usage\n",
    "\n",
    "What is the equation for the amount of pepper needed to manufacture $x_1$ and $x_2$. What is the equation for the amount of vinegar?\n",
    "\n",
    "\n",
    "<!--\n",
    "BEGIN QUESTION\n",
    "name: q1a\n",
    "manual: true\n",
    "points: 4\n",
    "-->"
   ]
  },
  {
   "cell_type": "markdown",
   "metadata": {},
   "source": [
    "For pepper: 5$x_1$+7$x_2$  $\\leq$ 30  \n",
    "For vinegar: 4$x_1$+2$x_2$ $\\leq$ 12"
   ]
  },
  {
   "cell_type": "markdown",
   "metadata": {
    "deletable": false,
    "editable": false
   },
   "source": [
    "<!-- END QUESTION -->\n",
    "\n",
    "<!-- BEGIN QUESTION -->\n",
    "\n",
    "### Question 1.b:  Resource Usage vs. Total Resource Constraint\n",
    "\n",
    "Total amount of pepper needed cannot exceed total available. Write down the inequality expressing this relationship. Do the same for vinegar. These inequalities are your resource constraints.\n",
    "Additinally, variables $x_1$ and $x_2$ are non-negative: i.e. amount of manufactured goods cannot be negative.\n",
    "\n",
    "Rewrite the system of constraint inequalities into a matrix inequality: $Ax\\leq b$, where $x=(x_1, x_2)^T$. Arrange rows of $A$ and $b$ such that:\n",
    "\n",
    "* Row 1: total pepper amount constraint\n",
    "* Row 2: total vinegar amount constraint\n",
    "* Row 3: Kapatio non-negativity constraint\n",
    "* Row 4: Zriracha non-negativity constraint\n",
    "\n",
    "Less than symbol in $Ax\\leq b$ means element-wise.\n",
    "\n",
    "<!--Rewrite the system of constraint inequalities into a matrix inequality:  𝐴𝑥≤𝑏\n",
    " , where  𝑥=(𝑥1,𝑥2)𝑇\n",
    " . Arrange rows of  𝐴\n",
    "  and  𝑏\n",
    "  such that:\n",
    "\n",
    "Row 1: total pepper amount constraint\n",
    "Row 2: total vinegar amount constraint\n",
    "Row 3: Kapatio non-negativity constraint\n",
    "Row 4: Zriracha non-negativity constrain\n",
    "BEGIN QUESTION\n",
    "name: q1b1\n",
    "manual: true\n",
    "points: 4\n",
    "-->"
   ]
  },
  {
   "cell_type": "markdown",
   "metadata": {},
   "source": [
    "$\\begin{bmatrix} 5 & 7 \\\\ 4 & 2 \\\\ -1 & 0 \\\\ 0 & -1 \\end{bmatrix}$ * $\\begin{bmatrix} x_1 \\\\ x_2 \\end{bmatrix}$ $\\leq$ $\\begin{bmatrix} 30 \\\\ 12 \\\\ 0 \\\\ 0 \\end{bmatrix}$"
   ]
  },
  {
   "cell_type": "markdown",
   "metadata": {
    "deletable": false,
    "editable": false
   },
   "source": [
    "<!-- END QUESTION -->\n",
    "\n",
    "Define matrix `A1` and vector `b1` according to matrix inequality above.\n",
    "\n",
    "<!--\n",
    "BEGIN QUESTION\n",
    "name: q1b2\n",
    "manual: false\n",
    "points: 4\n",
    "-->"
   ]
  },
  {
   "cell_type": "code",
   "execution_count": 4,
   "metadata": {},
   "outputs": [],
   "source": [
    "A1 = np.array([[5,7], [4,2], [-1,0], [0,-1]]) \n",
    "b1 = np.array([30, 12, 0, 0])"
   ]
  },
  {
   "cell_type": "code",
   "execution_count": 5,
   "metadata": {
    "deletable": false,
    "editable": false
   },
   "outputs": [
    {
     "data": {
      "text/html": [
       "<p><strong><pre style='display: inline;'>q1b2</pre></strong> passed! 🍀</p>"
      ],
      "text/plain": [
       "q1b2 results: All test cases passed!"
      ]
     },
     "execution_count": 5,
     "metadata": {},
     "output_type": "execute_result"
    }
   ],
   "source": [
    "grader.check(\"q1b2\")"
   ]
  },
  {
   "cell_type": "markdown",
   "metadata": {},
   "source": [
    "### Visualizing Feasible Region <a class=\"tocSkip\">\n",
    "In a 2-dimensional plot, we will visualize the area that satisfies both of the resource constraints. Draw $x_1$ on the horizontal axis and $x_2$ on the vertical axis. \n",
    "\n",
    "There will be two main components to the plot:\n",
    "* **Lines** indicating constraint boundaries:  \n",
    "    e.g. the constraint $x_2\\geq 0$ has boundary at $x_2 = 0$.\n",
    "* **Shaded area** indicating feasible regions:  \n",
    "    e.g., the whole region $x_2 > 0$ is to be shaded _if_ $x_2\\geq 0$ was the only constraint. We will use shading to indicate the region where _all_ constraints are satisfied."
   ]
  },
  {
   "cell_type": "code",
   "execution_count": 6,
   "metadata": {},
   "outputs": [],
   "source": [
    "x1_line = np.linspace(-1, 10, 500)\n",
    "x2_line = np.linspace(-1, 10, 500)"
   ]
  },
  {
   "cell_type": "markdown",
   "metadata": {},
   "source": [
    "### Question 1.c: Feasible Region Boundary\n",
    "\n",
    "In a list named `boundary`, create four data frames for each equality in $Ax=b$. These lines indicate where the feasible area ends. Set column names as\n",
    "\n",
    "* `$x_1$`\n",
    "* `$x_2$`\n",
    "* `constraints`\n",
    "\n",
    "Note the use of latex codes. \n",
    "\n",
    "#### Toy Example: Drawing Boundaries <a class=\"tocSkip\">\n",
    "\n",
    "Here is a **toy example** of drawing two constraint boundaries by constructing data frames:"
   ]
  },
  {
   "cell_type": "code",
   "execution_count": 7,
   "metadata": {},
   "outputs": [
    {
     "data": {
      "image/png": "[encoded data removed]",
      "text/plain": [
       "<Figure size 600x600 with 1 Axes>"
      ]
     },
     "metadata": {},
     "output_type": "display_data"
    }
   ],
   "source": [
    "z1_line = np.linspace(-1, 10, 500)\n",
    "z2_line = np.linspace(-1, 10, 500)\n",
    "\n",
    "boundary = [\n",
    "    pd.DataFrame({\n",
    "        '$z_1$': np.ones_like(z2_line)*1,\n",
    "        '$z_2$': z2_line,\n",
    "        'constraint': '$z_1\\geq 1$'\n",
    "    }),\n",
    "    pd.DataFrame({\n",
    "        '$z_1$': z1_line,\n",
    "        '$z_2$': np.ones_like(z1_line)*2,\n",
    "        'constraint': '$z_2\\geq 2$'\n",
    "    }),\n",
    "]\n",
    "fig, ax = plt.subplots(figsize=(6, 6))\n",
    "sns.lineplot(x='$z_1$', y='$z_2$', hue='constraint', data=pd.concat(boundary).reset_index(), ax=ax).axvline(1)\n",
    "plt.xlim(-1, 6)\n",
    "plt.ylim(-1, 6)\n",
    "plt.show()"
   ]
  },
  {
   "cell_type": "markdown",
   "metadata": {
    "deletable": false,
    "editable": false
   },
   "source": [
    "<!-- BEGIN QUESTION -->\n",
    "\n",
    "Sometimes, things just do not work as expected. \n",
    "\n",
    "In the toy example code, \n",
    "```\n",
    "sns.lineplot(x='$z_1$', y='$z_2$', hue='constraint', data=pd.concat(boundary), ax=ax).axvline(1)\n",
    "```\n",
    "what seems strange about the plotting command? Why was the strange code necessary?\n",
    "\n",
    "<!--\n",
    "BEGIN QUESTION\n",
    "name: q1c1\n",
    "manual: true\n",
    "points: 4\n",
    "-->"
   ]
  },
  {
   "cell_type": "markdown",
   "metadata": {},
   "source": [
    "The strange thing about the plotting command is the usage of `.axvline(1)`. This was necessary to visualize where the feasible solution exists at the point where the two constraint lines intersect. Without this line, it would be hard to see where the feasible solution ends just by looking at the plot."
   ]
  },
  {
   "cell_type": "markdown",
   "metadata": {},
   "source": [
    "<!-- END QUESTION -->\n",
    "\n",
    "\n",
    "\n",
    "#### Example: Resource Constraint Boundary  <a class=\"tocSkip\">\n",
    "\n",
    "Now, create a data frame for the non-negativity constraint $x_2\\geq 0$ as follows:"
   ]
  },
  {
   "cell_type": "code",
   "execution_count": 8,
   "metadata": {},
   "outputs": [
    {
     "data": {
      "text/plain": [
       "(         $x_1$  $x_2$    constraint\n",
       " 0    -1.000000   -0.0  $x_2 \\geq 0$\n",
       " 1    -0.977956   -0.0  $x_2 \\geq 0$\n",
       " 2    -0.955912   -0.0  $x_2 \\geq 0$\n",
       " 3    -0.933868   -0.0  $x_2 \\geq 0$\n",
       " 4    -0.911824   -0.0  $x_2 \\geq 0$\n",
       " ..         ...    ...           ...\n",
       " 495   9.911824    0.0  $x_2 \\geq 0$\n",
       " 496   9.933868    0.0  $x_2 \\geq 0$\n",
       " 497   9.955912    0.0  $x_2 \\geq 0$\n",
       " 498   9.977956    0.0  $x_2 \\geq 0$\n",
       " 499  10.000000    0.0  $x_2 \\geq 0$\n",
       " \n",
       " [500 rows x 3 columns],)"
      ]
     },
     "execution_count": 8,
     "metadata": {},
     "output_type": "execute_result"
    }
   ],
   "source": [
    "pd.DataFrame({'$x_1$':x1_line,               ## x_1 can take on any value\n",
    "              '$x_2$':x1_line * 0.0,         ## x_2 = 0\n",
    "              'constraint':'$x_2 \\geq 0$'}), ## constraint equation for labeling"
   ]
  },
  {
   "cell_type": "markdown",
   "metadata": {
    "deletable": false,
    "editable": false
   },
   "source": [
    "Create a list named `boundary` containing four data frames (each corresponding to a constraint). Concatenate data frames in `boundary` to one data frame named `hull`.\n",
    "\n",
    "<!--\n",
    "BEGIN QUESTION\n",
    "name: q1c2\n",
    "manual: false\n",
    "points: 6\n",
    "-->"
   ]
  },
  {
   "cell_type": "code",
   "execution_count": 9,
   "metadata": {},
   "outputs": [],
   "source": [
    "boundary = [\n",
    "    pd.DataFrame({'$x_1$': x1_line,\n",
    "                  '$x_2$': (30-5*x1_line)/7,\n",
    "                  'constraint':'$5x_1 + 7x_2 \\leq 30$'}),\n",
    "    pd.DataFrame({'$x_1$': (12-2*x2_line)/4,\n",
    "                  '$x_2$': x2_line,\n",
    "                  'constraint':'$4x_1 + 2x_2 \\leq 12$'}),\n",
    "    pd.DataFrame({'$x_1$': x1_line, \n",
    "                  '$x_2$': np.zeros_like(x1_line),\n",
    "                  'constraint':'$x_1 \\geq 0$'}),\n",
    "    pd.DataFrame({'$x_1$':x1_line,\n",
    "                  '$x_2$':x1_line * 0.0,\n",
    "                  'constraint':'$x_2 \\geq 0$'})\n",
    "]\n",
    "hull = pd.concat(boundary)"
   ]
  },
  {
   "cell_type": "code",
   "execution_count": 10,
   "metadata": {
    "deletable": false,
    "editable": false
   },
   "outputs": [
    {
     "data": {
      "text/html": [
       "<p><strong><pre style='display: inline;'>q1c2</pre></strong> passed! 🚀</p>"
      ],
      "text/plain": [
       "q1c2 results: All test cases passed!"
      ]
     },
     "execution_count": 10,
     "metadata": {},
     "output_type": "execute_result"
    }
   ],
   "source": [
    "grader.check(\"q1c2\")"
   ]
  },
  {
   "cell_type": "markdown",
   "metadata": {},
   "source": [
    "### Question 1.d: Interior of Feasible Region\n",
    "\n",
    "Previous question prepared constraint boundaries, $Ax = b$. In this question, we calculate the interior of the feasible region, which will be shaded in the visualization. First, create a 2-d array of $x_1$ and $x_2$ values. If a point $(x_1, x_2)$ satisfies _every_ constraint, the point will be colored grey.\n",
    "\n",
    "For example, in order to shade $\\{x_1: x_1\\geq 1\\}\\cap\\{x_2: x_2\\geq 2\\}$, we can use the `imshow` method. "
   ]
  },
  {
   "cell_type": "code",
   "execution_count": 11,
   "metadata": {},
   "outputs": [
    {
     "data": {
      "image/png": "[encoded data removed]",
      "text/plain": [
       "<Figure size 600x600 with 1 Axes>"
      ]
     },
     "metadata": {},
     "output_type": "display_data"
    }
   ],
   "source": [
    "z1_line = np.linspace(-1, 6, 10)\n",
    "z2_line = np.linspace(-1, 6, 10)\n",
    "z1_grid, z2_grid = np.meshgrid(z1_line, z2_line)\n",
    "\n",
    "fig, az = plt.subplots(figsize=(6, 6))\n",
    "az.imshow(\n",
    "    ((z1_grid >= 1) & (z2_grid >= 2)).astype(int),\n",
    "    origin='lower',\n",
    "    extent=(z1_grid.min(), z1_grid.max(), z2_grid.min(), z2_grid.max()),\n",
    "    cmap=\"Greys\", alpha=0.3, aspect='equal' \n",
    ")\n",
    "plt.xlim(-1, 6)\n",
    "plt.ylim(-1, 6)\n",
    "plt.show()"
   ]
  },
  {
   "cell_type": "markdown",
   "metadata": {
    "deletable": false,
    "editable": false
   },
   "source": [
    "<!-- BEGIN QUESTION -->\n",
    "\n",
    "By dissecting the command below and reading the documentation, report what each of the following lines does:\n",
    "\n",
    "* `((y1_grid >= 1) & (y2_grid >= 2)).astype(int)` (What is the output of running this command?)  \n",
    "* `origin='lower'`  \n",
    "* `extent=(y1_grid.min(), y1_grid.max(), y2_grid.min(), y2_grid.max())`  \n",
    "* `cmap='Greys'`  \n",
    "* `alpha=0.3`  \n",
    "* `aspect='equal'`  \n",
    "\n",
    "<!--\n",
    "BEGIN QUESTION\n",
    "name: q1d1\n",
    "manual: true\n",
    "points: 6\n",
    "-->"
   ]
  },
  {
   "cell_type": "markdown",
   "metadata": {},
   "source": [
    "1) The first line checks every point in the dataset whether its $x_1$ value is greater than or equal to 1 and its $x_2$ value is greater than or equal to 2. If this boolean condition is satisfied, the data point will be colored grey on the graph.\n",
    "2) The second line changes the place of the origin to the lower-left corner of the plot.\n",
    "3) The third line specifies the range of the x and y axes on the plot.\n",
    "4) The fourth line sets the color map of the plot to different shades of grey.\n",
    "5) The fifth line sets the transparency level of the shades of grey to 0.3.\n",
    "6) The sixth line sets the aspect ratio of the plot to 1:1."
   ]
  },
  {
   "cell_type": "markdown",
   "metadata": {
    "deletable": false,
    "editable": false
   },
   "source": [
    "<!-- END QUESTION -->\n",
    "\n",
    "<!-- BEGIN QUESTION -->\n",
    "\n",
    "### Question 1.e: Visualizing the Feasible Region\n",
    "\n",
    "Finally, create a figure that shows constraint boundaries and the interior region shaded with a light grey color.\n",
    "\n",
    "Your output will look like this:  \n",
    "![hull](images/feasible.png)\n",
    "\n",
    "<!--\n",
    "BEGIN QUESTION\n",
    "name: q1e1\n",
    "manual: true\n",
    "points: 8\n",
    "-->"
   ]
  },
  {
   "cell_type": "code",
   "execution_count": 12,
   "metadata": {},
   "outputs": [
    {
     "data": {
      "image/png": "[encoded data removed]",
      "text/plain": [
       "<Figure size 600x600 with 1 Axes>"
      ]
     },
     "metadata": {},
     "output_type": "display_data"
    }
   ],
   "source": [
    "fig, ax = plt.subplots(figsize=(6, 6))\n",
    "x1_grid, x2_grid = np.meshgrid(x1_line, x2_line)\n",
    "\n",
    "ax.imshow(\n",
    "    (\n",
    "    ((5*x1_grid + 7*x2_grid <= 30) &\n",
    "    (4*x1_grid + 2*x2_grid <= 12) &\n",
    "    (x1_grid >= 0) &\n",
    "    (x2_grid >= 0))\n",
    "    ).astype(int),\n",
    "    origin='lower',\n",
    "    extent=(x1_grid.min(), x1_grid.max(), x2_grid.min(), x2_grid.max()),\n",
    "    cmap=\"Greys\", alpha = 0.3, aspect='equal')\n",
    "\n",
    "\n",
    "# ax = sns.lineplot(???).axvline(???)\n",
    "ax = sns.lineplot(x='$x_1$', y='$x_2$', hue='constraint', data=hull, ax=ax).axvline(0, color='green', lw=2, label='$x_1 \\geq 0$')\n",
    "\n",
    "plt.xlim(-1, 6)\n",
    "plt.ylim(-1, 6)\n",
    "plt.show()"
   ]
  },
  {
   "cell_type": "markdown",
   "metadata": {
    "deletable": false,
    "editable": false
   },
   "source": [
    "<!-- END QUESTION -->\n",
    "\n",
    "<!-- BEGIN QUESTION -->\n",
    "\n",
    "In the context of linear programming, $Ax\\leq b$ is called the _feasible region_ (including the appropriate sections of the boundaries). Denote the (shaded) feasible region as set $C$. Points $(x_1,x_2)\\in C$ satisfy all of the constraints.\n",
    "\n",
    "Describe in plain words the feasible region in the context of hot sauce manufacturing. Specifically, which constraint is violated (if any) by a point at:\n",
    "\n",
    "* $(x_1,x_2) = (4, 1)$\n",
    "* $(x_1,x_2) = (0, 5)$  \n",
    "* $(x_1,x_2) = (3, 4)$  \n",
    "\n",
    "<!--\n",
    "BEGIN QUESTION\n",
    "name: q1e2\n",
    "manual: true\n",
    "points: 6\n",
    "-->"
   ]
  },
  {
   "cell_type": "markdown",
   "metadata": {},
   "source": [
    "The feasible region in the context of hot sauce manufacturing represents the different combinations of pepper and vinegar ($x_1$ and $x_2$) that satisfy the defined constraints.  \n",
    "For the first point: $5(4) + 7(1) = 27 \\leq 30$ and $4(4) + 2(1) = 18 \\leq 12$  so this point is not inside the feasible region because it violates the second constraint.  \n",
    "For the second point: $5(0) + 7(5) = 35 \\leq 12$ and $4(0) + 2(5) = 10 \\leq 12$  so this point is not inside the feasible region because it violates the first constraint.  \n",
    "For the third point: $5(3) + 7(4) = 43 \\leq 30$ and $4(3) + 2(4) = 20 \\leq 12$ so this point is not inside the feasible region because it violates both constraints."
   ]
  },
  {
   "cell_type": "markdown",
   "metadata": {
    "deletable": false,
    "editable": false
   },
   "source": [
    "<!-- END QUESTION -->\n",
    "\n",
    "<!-- BEGIN QUESTION -->\n",
    "\n",
    "## Question 2: Objective Function\n",
    "\n",
    "### Question 2.a: Defining Objective Function\n",
    "\n",
    "Suppose the hot sauces are sold at the same price: \\\\$5 per liter. \n",
    "\n",
    "What is the equation $f(x)$ for the total revenue as a function of $x_1$ and $x_2$? \n",
    "\n",
    "The function $f(x)$ is called the objective function.\n",
    "\n",
    "<!--\n",
    "BEGIN QUESTION\n",
    "name: q2a1\n",
    "manual: true\n",
    "points: 4\n",
    "-->"
   ]
  },
  {
   "cell_type": "markdown",
   "metadata": {},
   "source": [
    "$f(x)$ = $5$*$x_1$+$5$*$x_2$"
   ]
  },
  {
   "cell_type": "markdown",
   "metadata": {
    "deletable": false,
    "editable": false
   },
   "source": [
    "<!-- END QUESTION -->\n",
    "\n",
    "Objective function $f(x)$ is a linear function in $x$. Therefore, $f(x)$ is a 2-dimesional hyperplane. Note that each value of $f(x)$ defines a line in $(x_1, x_2)$ plane.\n",
    "\n",
    "For example, $f(x)= 0 = c_1x_1 + c_2x_2$ defines a line. A subspace of equal function value is sometimes referred to as a _level set_ or a _contour line_ when visualized.\n",
    "\n",
    "First, create a numpy array of prices `c` for the two hot sauces, $x_1$ and $x_2$. Then, create a list `f_vals` containing four data frames of contour lines, $f(x) \\in \\{0, 10, 20, 30\\}$. by creating one data frame for each contour line. \n",
    "\n",
    "<!--\n",
    "BEGIN QUESTION\n",
    "name: q2a2\n",
    "manual: false\n",
    "points: 4\n",
    "-->"
   ]
  },
  {
   "cell_type": "code",
   "execution_count": 13,
   "metadata": {},
   "outputs": [
    {
     "data": {
      "image/png": "[encoded data removed]",
      "text/plain": [
       "<Figure size 600x600 with 1 Axes>"
      ]
     },
     "metadata": {},
     "output_type": "display_data"
    }
   ],
   "source": [
    "c = np.array([5,5])\n",
    "\n",
    "fig, ax = plt.subplots(figsize=(6, 6))\n",
    "contours = [\n",
    "    pd.DataFrame({\n",
    "        '$x_1$': x1_line,\n",
    "        '$x_2$': ( 0 - c[0]*x1_line)/c[1],\n",
    "        '$f(x)$': 0\n",
    "    }),\n",
    "    pd.DataFrame({\n",
    "        '$x_1$': x1_line,\n",
    "        '$x_2$': ( 10 - c[0]*x1_line)/c[1],\n",
    "        '$f(x)$': 10\n",
    "    }),\n",
    "    pd.DataFrame({\n",
    "        '$x_1$': x1_line,\n",
    "        '$x_2$': ( 20 - c[0]*x1_line)/c[1],\n",
    "        '$f(x)$': 20\n",
    "    }),\n",
    "    pd.DataFrame({\n",
    "        '$x_1$': x1_line,\n",
    "        '$x_2$': ( 30 - c[0]*x1_line)/c[1],\n",
    "        '$f(x)$': 30\n",
    "    })\n",
    "]\n",
    "f_vals = pd.concat(contours)\n",
    "\n",
    "# ax = sns.lineplot(???)\n",
    "ax = sns.lineplot(x='$x_1$', y='$x_2$', hue='$f(x)$', data=f_vals, ax=ax)\n",
    "\n",
    "plt.xlim(-1, 6)\n",
    "plt.ylim(-1, 6)\n",
    "plt.show()"
   ]
  },
  {
   "cell_type": "code",
   "execution_count": 14,
   "metadata": {
    "deletable": false,
    "editable": false
   },
   "outputs": [
    {
     "data": {
      "text/html": [
       "<p><strong><pre style='display: inline;'>q2a2</pre></strong> passed! 🌈</p>"
      ],
      "text/plain": [
       "q2a2 results: All test cases passed!"
      ]
     },
     "execution_count": 14,
     "metadata": {},
     "output_type": "execute_result"
    }
   ],
   "source": [
    "grader.check(\"q2a2\")"
   ]
  },
  {
   "cell_type": "markdown",
   "metadata": {
    "deletable": false,
    "editable": false
   },
   "source": [
    "<!-- BEGIN QUESTION -->\n",
    "\n",
    "### Question 2.b: Direction of Steepest Increase\n",
    "\n",
    "Since we want to maximize revenue, we want to increase our objective function as much as possible. Analogous to the minimization example given in a previous lecture, we can repeatedly move in the direction of function increase. In order to determine such direction, compute the gradient of $f(x)$ at $x=(0,0)^T$:\n",
    "$$\\nabla_x f(x) = \\begin{pmatrix}\\frac{\\partial f(x)}{\\partial x_1}\\\\\\frac{\\partial f(x)}{\\partial x_2}\\end{pmatrix} $$\n",
    "\n",
    "<!--\n",
    "BEGIN QUESTION\n",
    "name: q2b\n",
    "manual: true\n",
    "points: 4\n",
    "-->"
   ]
  },
  {
   "cell_type": "markdown",
   "metadata": {},
   "source": [
    "$$\\nabla_x f(x) = \\begin{bmatrix} 5 \\\\ 5  \\end{bmatrix}$$"
   ]
  },
  {
   "cell_type": "markdown",
   "metadata": {
    "deletable": false,
    "editable": false
   },
   "source": [
    "<!-- END QUESTION -->\n",
    "\n",
    "<!-- BEGIN QUESTION -->\n",
    "\n",
    "## Question 3: Putting Pieces Together\n",
    "\n",
    "### Question 3.a: Standard Form of a Linear Programming Problem\n",
    "\n",
    "Write down the so-called the _standard form_ of a linear programming problem:\n",
    "$$\\begin{aligned}\n",
    "\\max_x & f(x)\\\\\n",
    "\\text{subject to } & Ax\\leq b\n",
    "\\end{aligned}$$\n",
    "\n",
    "Specifically, write the obejective as an inner product of two vectors: $f(x) = c^T x$, and write the constraint as a vector inequality involving a matrix-vector prduct: $Ax\\leq b$, where $A$ is a 4-by-2 matrix.\n",
    "\n",
    "<!--\n",
    "BEGIN QUESTION\n",
    "name: q3a\n",
    "manual: true\n",
    "points: 4\n",
    "-->"
   ]
  },
  {
   "cell_type": "markdown",
   "metadata": {},
   "source": [
    "$$\\begin{aligned}\n",
    "\\max_x & (5x_1 + 5x_2)\\\\\n",
    "\\text{subject to } & \\begin{bmatrix} 5 & 7 \\\\ 4 & 2 \\\\ -1 & 0 \\\\ 0 & -1 \\end{bmatrix} x\\leq \\begin{bmatrix} 30 \\\\ 12 \\\\ 0 \\\\ 0 \\end{bmatrix}\n",
    "\\end{aligned}$$"
   ]
  },
  {
   "cell_type": "markdown",
   "metadata": {
    "deletable": false,
    "editable": false
   },
   "source": [
    "<!-- END QUESTION -->\n",
    "\n",
    "### Question 3.b: Computing the Numerical Solution\n",
    "\n",
    "Therefore, _maximizing_ the revenue is a search over the feasible region for the best point $x^*=(x_1^*, x_2^*)$ that gives the largest revenue. On the otherhand, any _infeasible_ point _not_ in the feasible region cannot be a solution to the constrained optimization problem.\n",
    "\n",
    "Notationally, the following expression means the same thing:\n",
    "$$x^* = \\arg\\max_{\\{x: Ax\\leq b\\}} f(x)$$\n",
    "\n",
    "Using [CVXPY](https://www.cvxpy.org/), solve for the resource allocation problem with constraints.\n",
    "\n",
    "<!--\n",
    "BEGIN QUESTION\n",
    "name: q3b\n",
    "manual: false\n",
    "points: 4\n",
    "-->"
   ]
  },
  {
   "cell_type": "code",
   "execution_count": 15,
   "metadata": {},
   "outputs": [],
   "source": [
    "# define variables\n",
    "x = cp.Variable(2)\n",
    "\n",
    "# define the linear program\n",
    "problem = cp.Problem(\n",
    "    cp.Maximize(c.T@x),\n",
    "    [A1@x<=b1]\n",
    ")\n",
    "\n",
    "fstar1 = problem.solve()                                                 # maximum attained function value\n",
    "xstar1 = pd.DataFrame(x.value.reshape(1, 2), columns=['$x_1$', '$x_2$']) # maximizer x for f"
   ]
  },
  {
   "cell_type": "code",
   "execution_count": 16,
   "metadata": {
    "deletable": false,
    "editable": false
   },
   "outputs": [
    {
     "data": {
      "text/html": [
       "<p><strong><pre style='display: inline;'>q3b</pre></strong> passed! 🚀</p>"
      ],
      "text/plain": [
       "q3b results: All test cases passed!"
      ]
     },
     "execution_count": 16,
     "metadata": {},
     "output_type": "execute_result"
    }
   ],
   "source": [
    "grader.check(\"q3b\")"
   ]
  },
  {
   "cell_type": "markdown",
   "metadata": {
    "deletable": false,
    "editable": false
   },
   "source": [
    "<!-- BEGIN QUESTION -->\n",
    "\n",
    "### Question 3.c: Plotting the optimal solution\n",
    "\n",
    "<!--\n",
    "BEGIN QUESTION\n",
    "name: q3c\n",
    "manual: true\n",
    "points: 4\n",
    "-->"
   ]
  },
  {
   "cell_type": "code",
   "execution_count": 17,
   "metadata": {},
   "outputs": [
    {
     "data": {
      "image/png": "[encoded data removed]",
      "text/plain": [
       "<Figure size 600x600 with 1 Axes>"
      ]
     },
     "metadata": {},
     "output_type": "display_data"
    }
   ],
   "source": [
    "fig, ax = plt.subplots(figsize=(6, 6))\n",
    "x1_grid, x2_grid = np.meshgrid(x1_line, x2_line)\n",
    "ax.imshow(\n",
    "    (\n",
    "        (A1[0,0]*x1_grid + A1[0,1]*x2_grid <= b1[0]) & # Pepper constraints\n",
    "        (A1[1,0]*x1_grid + A1[1,1]*x2_grid <= b1[1]) & # Vinegar constraints\n",
    "        (A1[2,0]*x1_grid + A1[2,1]*x2_grid <= b1[2]) & \n",
    "        (A1[3,0]*x1_grid + A1[3,1]*x2_grid <= b1[3])   # non-negativity constraints \n",
    "    ),\n",
    "    origin='lower',\n",
    "    extent=(x1_grid.min(), x1_grid.max(), x2_grid.min(), x2_grid.max()),\n",
    "    cmap=\"Greys\", alpha = 0.3, aspect='equal' \n",
    ")\n",
    "sns.scatterplot(x='$x_1$', y='$x_2$', data=xstar1, ax=ax, s=100)\n",
    "sns.lineplot(x='$x_1$', y='$x_2$', hue='$f(x)$', data=f_vals.reset_index(), ax=ax)\n",
    "plt.xlim(-1, 6)\n",
    "plt.ylim(-1, 6)\n",
    "plt.show()"
   ]
  },
  {
   "cell_type": "markdown",
   "metadata": {},
   "source": [
    "<!-- END QUESTION -->\n",
    "\n",
    "\n",
    "\n",
    "# Question 4: Nutrition Problem\n",
    "\n",
    "During the second world war, the US Army set out to save money without damaging the nutritional health of members of the armed forces. \n",
    "\n",
    "> According to [this source](https://ibmdecisionoptimization.github.io/docplex-doc/mp/diet.html), the following problem is a _simple variation of the well-known diet problem that was posed by George Stigler and George Dantzig: how to choose foods that satisfy nutritional requirements while minimizing costs or maximizing satiety._\n",
    "> \n",
    "> _Stigler solved his model \"by hand\" because technology at the time did not yet support more sophisticated methods. However, in 1947, Jack Laderman, of the US National Bureau of Standards, applied the simplex method (an algorithm that was recently proposed by George Dantzig) to Stigler’s model. Laderman and his team of nine linear programmers, working on desk calculators, showed that Stigler’s heuristic approximation was very close to optimal (only 24 cents per year over the optimum found by the simplex method) and thus demonstrated the practicality of the simplex method on large-scale, real-world problems._\n",
    "> \n",
    "> _The problem that is solved in this example is to minimize the cost of a diet that satisfies certain nutritional constraints._\n",
    "\n",
    "The file `foods.csv` contains calorie, nutritional content, serving size, and price per serving information about 64 foods. Read it into a data frame named `foods`."
   ]
  },
  {
   "cell_type": "code",
   "execution_count": 18,
   "metadata": {},
   "outputs": [
    {
     "name": "stdout",
     "output_type": "stream",
     "text": [
      "                        Name  Calories  Cholesterol  Total_Fat  Sodium  \\\n",
      "0            Frozen Broccoli      73.8          0.0        0.8    68.2   \n",
      "1               Carrots, Raw      23.7          0.0        0.1    19.2   \n",
      "2                Celery, Raw       6.4          0.0        0.1    34.8   \n",
      "3                Frozen Corn      72.2          0.0        0.6     2.5   \n",
      "4       Lettuce, Iceberg,Raw       2.6          0.0        0.0     1.8   \n",
      "..                       ...       ...          ...        ...     ...   \n",
      "59         New Eng Clam Chwd     175.7         10.0        5.0  1864.9   \n",
      "60               Tomato Soup     170.7          0.0        3.8  1744.4   \n",
      "61  New Eng Clam Chwd, w/Mlk     163.7         22.3        6.6   992.0   \n",
      "62     Crm Mshrm Soup, w/Mlk     203.4         19.8       13.6  1076.3   \n",
      "63   Bean Bacon Soup, w/Watr     172.0          2.5        5.9   951.3   \n",
      "\n",
      "    Carbohydrates  Dietary_Fiber  Protein    Vit_A  Vit_C  Calcium  Iron  \\\n",
      "0            13.6            8.5      8.0   5867.4  160.2    159.0   2.3   \n",
      "1             5.6            1.6      0.6  15471.0    5.1     14.9   0.3   \n",
      "2             1.5            0.7      0.3     53.6    2.8     16.0   0.2   \n",
      "3            17.1            2.0      2.5    106.6    5.2      3.3   0.3   \n",
      "4             0.4            0.3      0.2     66.0    0.8      3.8   0.1   \n",
      "..            ...            ...      ...      ...    ...      ...   ...   \n",
      "59           21.8            1.5     10.9     20.1    4.8     82.8   2.8   \n",
      "60           33.2            1.0      4.1   1393.0  133.0     27.6   3.5   \n",
      "61           16.6            1.5      9.5    163.7    3.5    186.0   1.5   \n",
      "62           15.0            0.5      6.1    153.8    2.2    178.6   0.6   \n",
      "63           22.8            8.6      7.9    888.0    1.5     81.0   2.0   \n",
      "\n",
      "             Serving  Price/Serving ($)  \n",
      "0          10 Oz Pkg               0.16  \n",
      "1   1/2 Cup Shredded               0.07  \n",
      "2            1 Stalk               0.04  \n",
      "3            1/2 Cup               0.18  \n",
      "4             1 Leaf               0.02  \n",
      "..               ...                ...  \n",
      "59     1 C (8 Fl Oz)               0.75  \n",
      "60     1 C (8 Fl Oz)               0.39  \n",
      "61     1 C (8 Fl Oz)               0.99  \n",
      "62     1 C (8 Fl Oz)               0.65  \n",
      "63     1 C (8 Fl Oz)               0.67  \n",
      "\n",
      "[64 rows x 14 columns]\n"
     ]
    }
   ],
   "source": [
    "foods = pd.read_csv('foods.csv')\n",
    "print(foods)"
   ]
  },
  {
   "cell_type": "markdown",
   "metadata": {},
   "source": [
    "The file `nutritional_constraints.csv` contains healthy nutritional range constraints. Minimum and maximum allowed nutritional contents can be found in this file. Name the variable `requirements`."
   ]
  },
  {
   "cell_type": "code",
   "execution_count": 19,
   "metadata": {},
   "outputs": [
    {
     "name": "stdout",
     "output_type": "stream",
     "text": [
      "             Name Unit   Min    Max\n",
      "0        Calories  cal  2000   2250\n",
      "1     Cholesterol   mg     0    300\n",
      "2       Total_Fat    g     0     65\n",
      "3          Sodium   mg     0   2400\n",
      "4   Carbohydrates    g     0    300\n",
      "5   Dietary_Fiber    g    25    100\n",
      "6         Protein    g    50    100\n",
      "7           Vit_A   IU  5000  50000\n",
      "8           Vit_C   IU    50  20000\n",
      "9         Calcium   mg   800   1600\n",
      "10           Iron   mg    10     30\n"
     ]
    }
   ],
   "source": [
    "requirements = pd.read_csv('nutritional_constraints.csv')\n",
    "print(requirements)"
   ]
  },
  {
   "cell_type": "markdown",
   "metadata": {},
   "source": [
    "Extract the nutritional content of foods into a 2-d array named `ncontent`."
   ]
  },
  {
   "cell_type": "code",
   "execution_count": 20,
   "metadata": {
    "tags": []
   },
   "outputs": [
    {
     "name": "stdout",
     "output_type": "stream",
     "text": [
      "                          Calories  Cholesterol  Total_Fat  Sodium  \\\n",
      "Name                                                                 \n",
      "Frozen Broccoli               73.8          0.0        0.8    68.2   \n",
      "Carrots, Raw                  23.7          0.0        0.1    19.2   \n",
      "Celery, Raw                    6.4          0.0        0.1    34.8   \n",
      "Frozen Corn                   72.2          0.0        0.6     2.5   \n",
      "Lettuce, Iceberg,Raw           2.6          0.0        0.0     1.8   \n",
      "...                            ...          ...        ...     ...   \n",
      "New Eng Clam Chwd            175.7         10.0        5.0  1864.9   \n",
      "Tomato Soup                  170.7          0.0        3.8  1744.4   \n",
      "New Eng Clam Chwd, w/Mlk     163.7         22.3        6.6   992.0   \n",
      "Crm Mshrm Soup, w/Mlk        203.4         19.8       13.6  1076.3   \n",
      "Bean Bacon Soup, w/Watr      172.0          2.5        5.9   951.3   \n",
      "\n",
      "                          Carbohydrates  Dietary_Fiber  Protein    Vit_A  \\\n",
      "Name                                                                       \n",
      "Frozen Broccoli                    13.6            8.5      8.0   5867.4   \n",
      "Carrots, Raw                        5.6            1.6      0.6  15471.0   \n",
      "Celery, Raw                         1.5            0.7      0.3     53.6   \n",
      "Frozen Corn                        17.1            2.0      2.5    106.6   \n",
      "Lettuce, Iceberg,Raw                0.4            0.3      0.2     66.0   \n",
      "...                                 ...            ...      ...      ...   \n",
      "New Eng Clam Chwd                  21.8            1.5     10.9     20.1   \n",
      "Tomato Soup                        33.2            1.0      4.1   1393.0   \n",
      "New Eng Clam Chwd, w/Mlk           16.6            1.5      9.5    163.7   \n",
      "Crm Mshrm Soup, w/Mlk              15.0            0.5      6.1    153.8   \n",
      "Bean Bacon Soup, w/Watr            22.8            8.6      7.9    888.0   \n",
      "\n",
      "                          Vit_C  Calcium  Iron  \n",
      "Name                                            \n",
      "Frozen Broccoli           160.2    159.0   2.3  \n",
      "Carrots, Raw                5.1     14.9   0.3  \n",
      "Celery, Raw                 2.8     16.0   0.2  \n",
      "Frozen Corn                 5.2      3.3   0.3  \n",
      "Lettuce, Iceberg,Raw        0.8      3.8   0.1  \n",
      "...                         ...      ...   ...  \n",
      "New Eng Clam Chwd           4.8     82.8   2.8  \n",
      "Tomato Soup               133.0     27.6   3.5  \n",
      "New Eng Clam Chwd, w/Mlk    3.5    186.0   1.5  \n",
      "Crm Mshrm Soup, w/Mlk       2.2    178.6   0.6  \n",
      "Bean Bacon Soup, w/Watr     1.5     81.0   2.0  \n",
      "\n",
      "[64 rows x 11 columns]\n"
     ]
    }
   ],
   "source": [
    "ncontent = foods.iloc[:,0:12].set_index('Name')\n",
    "print(ncontent)"
   ]
  },
  {
   "cell_type": "markdown",
   "metadata": {
    "deletable": false,
    "editable": false
   },
   "source": [
    "<!-- BEGIN QUESTION -->\n",
    "\n",
    "### Question 4.a: Define Constraints\n",
    "\n",
    "To avoid eating the same foods, limit each food intake to be 2 or less. Also, one cannot consume less than zero servings. Furthermore, apply the nutritional constraints as specified in `nutritional_constraints.csv` (assume that the units are the same as food nutritional contents)\n",
    "\n",
    "Note that a range constraints, e.g., $2000 \\leq \\text{total calories} \\leq 2250$, can be written as two constraints: $\\text{total calories} \\leq 2250$ and $-\\text{total calories} \\leq -2000$. Hence, we can rewrite caloric intake constraints as\n",
    "$$\\begin{aligned}\n",
    "-(\\text{calories in frozen broccoli})x_0 - (\\text{calories in raw carrots})x_1 - \\dots - (\\text{calories in bean bacon soup, w/watr})x_{63} = -c^T x&\\leq -2000\\\\\n",
    "  \\text{calories in frozen broccoli})x_0 + (\\text{calories in raw carrots})x_1 + \\dots + (\\text{calories in bean bacon soup, w/watr})x_{63} = c^T x&\\leq 2250\\\\\n",
    "\\end{aligned}$$\n",
    "where vector $c$ contains calorie information for all 64 foods and $x$ containts servings consumed of each food. Matrix $U$ and vector $w$ would be such that\n",
    "$$\\begin{aligned}\n",
    "U=\n",
    "\\begin{pmatrix}\n",
    "-c^T\\\\\n",
    "c^T\n",
    "\\end{pmatrix}\n",
    "\\text{ and }\n",
    "w = \\begin{pmatrix}\n",
    "-2000\\\\\n",
    "2250\n",
    "\\end{pmatrix}\n",
    "\\end{aligned},$$\n",
    "and the matrix-vector inequality would be $Ux\\leq w$. Range constraints of each food can be implemented similarly with identity matrices.\n",
    "\n",
    "Denote nutritional content information from `foods` data frame as $A$ and denote the `Min` and `Max` columns of `requirements` as vector $b_L$ and $b_U$, respectively. Construct $M$ and $d$ in $M x \\leq d$ using $I$ (identity matrix), $A$, $b_L$, $b_U$, and other constants, so that all the range constraints are expressed in $M x\\leq d$. (This is a theory question. No coding is involved)\n",
    "\n",
    "<!--\n",
    "BEGIN QUESTION\n",
    "name: q4a\n",
    "manual: true\n",
    "points: 4\n",
    "-->"
   ]
  },
  {
   "cell_type": "markdown",
   "metadata": {},
   "source": [
    "$$\\begin{aligned}\n",
    "\\begin{bmatrix} -I \\\\ I \\\\ -A^T \\\\ A^T \\end{bmatrix}x  = \\begin{bmatrix} 0 \\\\ 2 \\\\ -b_L \\\\ b_U \\end{bmatrix}\n",
    "\\end{aligned},$$"
   ]
  },
  {
   "cell_type": "markdown",
   "metadata": {
    "deletable": false,
    "editable": false
   },
   "source": [
    "<!-- END QUESTION -->\n",
    "\n",
    "### Question 4.b: Create Python Variables\n",
    "\n",
    "Denote the servings of each food as $x_i$ where $i$ is the row index of each food in `foods` data frame: i.e. $x_0$ indicates number of servings of frozen broccoli, $x_1$ indicates that of raw carrots, etc.\n",
    "\n",
    "* Create cost vector `cost` that gives per serving cost. \n",
    "* Create matrix `M` and `d` that lists nutritional content in the following order:\n",
    "    * Non-negativity constraint of food consumed: i.e. 0 servings or more\n",
    "    * Upper limit on food consumed: i.e. 2 servings or less\n",
    "    * Lower limit on consumption of each nutrition: i.e. following `Min` column\n",
    "    * Upper limit on consumption of each nutrition: i.e. following `Max` column\n",
    "    \n",
    "<!--\n",
    "BEGIN QUESTION\n",
    "name: q4b\n",
    "manual: false\n",
    "points: 4\n",
    "-->"
   ]
  },
  {
   "cell_type": "code",
   "execution_count": 21,
   "metadata": {},
   "outputs": [],
   "source": [
    "M = np.concatenate(\n",
    "    (-1*np.identity(len(foods)), np.identity(len(foods)),\n",
    "    -1*ncontent.T, ncontent.T)\n",
    ")\n",
    "\n",
    "d = np.concatenate(\n",
    "    (0*np.ones(len(foods)), 2*np.ones(len(foods)),\n",
    "    -1*requirements['Min'], requirements['Max'])    \n",
    ")\n",
    "\n",
    "cost = foods['Price/Serving ($)'].values"
   ]
  },
  {
   "cell_type": "code",
   "execution_count": 22,
   "metadata": {
    "deletable": false,
    "editable": false
   },
   "outputs": [
    {
     "data": {
      "text/html": [
       "<p><strong><pre style='display: inline;'>q4b</pre></strong> passed! 🎉</p>"
      ],
      "text/plain": [
       "q4b results: All test cases passed!"
      ]
     },
     "execution_count": 22,
     "metadata": {},
     "output_type": "execute_result"
    }
   ],
   "source": [
    "grader.check(\"q4b\")"
   ]
  },
  {
   "cell_type": "markdown",
   "metadata": {
    "deletable": false,
    "editable": false,
    "tags": []
   },
   "source": [
    "### Question 4.c: Solve the Problem\n",
    "\n",
    "Create cvxpy variable `servings` to represent the number of servings of food, and use cvxpy to solve for the optimal solution. \n",
    "\n",
    "Choose [ECOS as your solver](https://www.cvxpy.org/tutorial/advanced/index.html?highlight=osqp#choosing-a-solver).\n",
    "\n",
    "<!--\n",
    "BEGIN QUESTION\n",
    "name: q4c\n",
    "manual: false\n",
    "points: 4\n",
    "-->"
   ]
  },
  {
   "cell_type": "code",
   "execution_count": 23,
   "metadata": {},
   "outputs": [],
   "source": [
    "servings = cp.Variable(len(foods))\n",
    "\n",
    "# define the linear program\n",
    "nutrition_problem = cp.Problem(\n",
    "    cp.Minimize(cost@servings.T),\n",
    "    [M@servings.T<=d]\n",
    ")\n",
    "\n",
    "# solve linear programming problem with ECOS solver\n",
    "# https://www.cvxpy.org/tutorial/advanced/index.html?highlight=osqp#choosing-a-solver\n",
    "fstar2 = nutrition_problem.solve(solver=cp.ECOS)  \n",
    "xstar2 = servings.value.round(20) # these are the optimal values (round xstar2)"
   ]
  },
  {
   "cell_type": "code",
   "execution_count": 24,
   "metadata": {
    "deletable": false,
    "editable": false
   },
   "outputs": [
    {
     "data": {
      "text/html": [
       "<p><strong><pre style='display: inline;'>q4c</pre></strong> passed! 🍀</p>"
      ],
      "text/plain": [
       "q4c results: All test cases passed!"
      ]
     },
     "execution_count": 24,
     "metadata": {},
     "output_type": "execute_result"
    }
   ],
   "source": [
    "grader.check(\"q4c\")"
   ]
  },
  {
   "cell_type": "markdown",
   "metadata": {
    "deletable": false,
    "editable": false
   },
   "source": [
    "<!-- BEGIN QUESTION -->\n",
    "\n",
    "### Question 4.d: Interpreting the Results\n",
    "\n",
    "State the results in the context of the problem. How much of each food was consumed? List the foods and their calculated amounts. What is the total cost of feeding one soldier? \n",
    "\n",
    "<!--\n",
    "BEGIN QUESTION\n",
    "name: q4d\n",
    "manual: true\n",
    "points: 4\n",
    "-->"
   ]
  },
  {
   "cell_type": "code",
   "execution_count": 25,
   "metadata": {
    "tags": []
   },
   "outputs": [
    {
     "data": {
      "text/plain": [
       "array([0.08, 0.22, 0.  , 0.  , 0.  , 0.  , 2.  , 0.  , 0.  , 0.  , 0.  ,\n",
       "       0.  , 0.  , 0.  , 0.  , 0.  , 0.  , 2.  , 1.42, 0.  , 0.  , 2.  ,\n",
       "       0.  , 0.  , 1.93, 0.  , 0.15, 0.25, 0.  , 0.  , 0.  , 0.  , 0.  ,\n",
       "       0.  , 0.  , 0.  , 0.  , 0.  , 0.  , 0.  , 0.24, 0.  , 0.  , 0.  ,\n",
       "       0.  , 0.  , 2.  , 0.  , 2.  , 0.  , 0.  , 0.  , 2.  , 0.  , 0.  ,\n",
       "       0.  , 0.  , 0.  , 0.  , 0.  , 0.  , 0.  , 0.  , 0.  ])"
      ]
     },
     "execution_count": 25,
     "metadata": {},
     "output_type": "execute_result"
    }
   ],
   "source": [
    "xstar2.round(2) # 0, 1, 6, 17, 18, 21, 24, 26, 27, 40, 46, 48, 52 (indices for relevant food items)"
   ]
  },
  {
   "cell_type": "code",
   "execution_count": 26,
   "metadata": {
    "tags": []
   },
   "outputs": [
    {
     "data": {
      "text/plain": [
       "0            Frozen Broccoli\n",
       "1               Carrots, Raw\n",
       "6            Potatoes, Baked\n",
       "17               Wheat Bread\n",
       "18               White Bread\n",
       "21    Chocolate Chip Cookies\n",
       "24      3.3% Fat, Whole Milk\n",
       "26                 Skim Milk\n",
       "27              Poached Eggs\n",
       "40         Malt-O-Meal, Choc\n",
       "46                White Rice\n",
       "48             Peanut Butter\n",
       "52       Popcorn, Air-Popped\n",
       "Name: Name, dtype: object"
      ]
     },
     "execution_count": 26,
     "metadata": {},
     "output_type": "execute_result"
    }
   ],
   "source": [
    "foods.Name.iloc[[0, 1, 6, 17, 18, 21, 24, 26, 27, 40, 46, 48, 52]] # Retrieve food names"
   ]
  },
  {
   "cell_type": "code",
   "execution_count": 27,
   "metadata": {
    "tags": []
   },
   "outputs": [
    {
     "data": {
      "text/plain": [
       "array([0.08024228, 0.22402888, 2.        , 2.        , 1.41772218,\n",
       "       2.        , 1.92814366, 0.15329528, 0.2503397 , 0.2431339 ,\n",
       "       2.        , 2.        , 2.        ])"
      ]
     },
     "execution_count": 27,
     "metadata": {},
     "output_type": "execute_result"
    }
   ],
   "source": [
    "xstar2[[0, 1, 6, 17, 18, 21, 24, 26, 27, 40, 46, 48, 52]]  # Consumed serving amount "
   ]
  },
  {
   "cell_type": "code",
   "execution_count": 28,
   "metadata": {
    "tags": []
   },
   "outputs": [
    {
     "data": {
      "text/plain": [
       "array([0.01283877, 0.01568202, 0.12      , 0.1       , 0.08506333,\n",
       "       0.06      , 0.30850299, 0.01992839, 0.02002718, 0.12642963,\n",
       "       0.16      , 0.14      , 0.08      ])"
      ]
     },
     "execution_count": 28,
     "metadata": {},
     "output_type": "execute_result"
    }
   ],
   "source": [
    "cost[[0, 1, 6, 17, 18, 21, 24, 26, 27, 40, 46, 48, 52]]*xstar2[[0, 1, 6, 17, 18, 21, 24, 26, 27, 40, 46, 48, 52]] # Cost"
   ]
  },
  {
   "cell_type": "markdown",
   "metadata": {},
   "source": [
    "| Food Name | Calculated Consumed Amount | Cost |\n",
    "| --- | --- | --- |\n",
    "| Frozen Broccoli | 0.08 | 0.013 |\n",
    "| Carrots, Raw | 0.22 | 0.016 |\n",
    "| Potatoes, Baked | 2.00 | 0.12 |\n",
    "| Wheat Bread | 2.00 | 0.10 |\n",
    "| White Bread | 1.42 | 0.09 |\n",
    "| Chocolate Chip Cookies | 2.00 | 0.06 |\n",
    "| 3.3% Fat, Whole Milk | 1.93 | 0.309 |\n",
    "| Skim Milk | 0.15 | 0.02 |\n",
    "| Poached Eggs | 0.25 | 0.02 |\n",
    "| Malt-O-Meal, Choc | 0.24 | 0.126 |\n",
    "| White Rice | 2.00 | 0.160 |\n",
    "| Peanut Butter | 2.00 | 0.140 |\n",
    "| Popcorn, Air-Popped | 2.00 | 0.080 |"
   ]
  },
  {
   "cell_type": "code",
   "execution_count": 29,
   "metadata": {
    "tags": []
   },
   "outputs": [
    {
     "data": {
      "text/plain": [
       "1.2484722937208912"
      ]
     },
     "execution_count": 29,
     "metadata": {},
     "output_type": "execute_result"
    }
   ],
   "source": [
    "cost.T@xstar2  # Total Cost of feeding one soldier (this is equal to the sum of the cost column above)"
   ]
  },
  {
   "cell_type": "markdown",
   "metadata": {},
   "source": [
    "Therefore the total cost of feeding one soldier is $1.25."
   ]
  },
  {
   "cell_type": "markdown",
   "metadata": {
    "deletable": false,
    "editable": false
   },
   "source": [
    "<!-- END QUESTION -->\n",
    "\n",
    "<!-- BEGIN QUESTION -->\n",
    "\n",
    "### (PSTAT 234) Question 5.a: Assignment Problem\n",
    "\n",
    "Given a set $\\mathcal{S}$ of $m$ people, a set $\\mathcal{D}$ of $m$ tasks, and for each $i \\in \\mathcal{S}, j \\in \\mathcal{D}$ a cost $c_{i j}$ associated with assigning person $i$ to task $j$, the assignment problem is to assign each person to one and only one task in such a manner that each task gets covered by someone and the total cost of the assignments is minimized. If we let\n",
    "$$\n",
    "x_{i j}= \\begin{cases}1 & \\text { if person } i \\text { is assigned task } j, \\\\ 0 & \\text { otherwise, }\\end{cases}\n",
    "$$\n",
    "then the objective function can be written as\n",
    "$$\n",
    "\\operatorname{minimize} \\sum_{i \\in \\mathcal{S}} \\sum_{j \\in \\mathcal{D}} c_{i j} x_{i j} \\text {. }\n",
    "$$\n",
    "\n",
    "Note that $x_{ij}$ values are constrained to be 0 or 1. This is also a constraint. Suppose that, additionally, we would like to build in the constraints that \n",
    "1. Each person is assigned exactly one task.\n",
    "2. Every task gets covered by someone.\n",
    "\n",
    "What equality constraints can you add? \n",
    "\n",
    "<!--\n",
    "BEGIN QUESTION\n",
    "name: q5a\n",
    "manual: true\n",
    "points: 5\n",
    "-->"
   ]
  },
  {
   "cell_type": "markdown",
   "metadata": {},
   "source": [
    "_Type your answer here, replacing this text._"
   ]
  },
  {
   "cell_type": "markdown",
   "metadata": {
    "deletable": false,
    "editable": false
   },
   "source": [
    "<!-- END QUESTION -->\n",
    "\n",
    "<!-- BEGIN QUESTION -->\n",
    "\n",
    "### (PSTAT 234) Question 5.b: Transportation Problem\n",
    "\n",
    "Transportation problem: $i$ and $j$ indicate pairs of locations, quantity of goods ($x_{ij}$), supply ($s_i$), demand ($d_j$), transportation network ($\\mathcal{A}$)\n",
    "$$\n",
    "\\begin{aligned}\n",
    "\\min_{x=(x_{ij})\\geq0} &\\sum_{(i, j) \\in \\mathcal{A}} c_{i j} x_{i j}\\\\\n",
    "\\text{sugject to }&\\sum_{j:(i, j) \\in \\mathcal{A}} x_{i j} \\leq s_{i} \\quad \\text { for all } i\\\\\n",
    "&\\sum_{i:(i, j) \\in \\mathcal{A}} x_{i j} \\geq d_{j} \\quad \\text { for all } j\n",
    "\\end{aligned} \n",
    "$$\n",
    "\n",
    "Describe the assignment problem as a special case of the transportation problem. Draw analogy of supply network ($\\mathcal{A}$), supply ($s_i$), demand ($d_j$), and quantity of goods ($x_{ij}$) in the assignment problem context.\n",
    "\n",
    "<!--\n",
    "BEGIN QUESTION\n",
    "name: q5b\n",
    "manual: true\n",
    "points: 10\n",
    "-->"
   ]
  },
  {
   "cell_type": "markdown",
   "metadata": {},
   "source": [
    "_Type your answer here, replacing this text._"
   ]
  },
  {
   "cell_type": "markdown",
   "metadata": {},
   "source": [
    "<!-- END QUESTION -->\n",
    "\n",
    "\n",
    "\n",
    "_Cell intentionally blank_"
   ]
  },
  {
   "cell_type": "markdown",
   "metadata": {
    "deletable": false,
    "editable": false
   },
   "source": [
    "---\n",
    "\n",
    "To double-check your work, the cell below will rerun all of the autograder tests."
   ]
  },
  {
   "cell_type": "code",
   "execution_count": 30,
   "metadata": {
    "deletable": false,
    "editable": false
   },
   "outputs": [
    {
     "data": {
      "text/plain": [
       "q1b2 results: All test cases passed!\n",
       "\n",
       "q1c2 results: All test cases passed!\n",
       "\n",
       "q2a2 results: All test cases passed!\n",
       "\n",
       "q3b results: All test cases passed!\n",
       "\n",
       "q4b results: All test cases passed!\n",
       "\n",
       "q4c results: All test cases passed!"
      ]
     },
     "execution_count": 30,
     "metadata": {},
     "output_type": "execute_result"
    }
   ],
   "source": [
    "grader.check_all()"
   ]
  },
  {
   "cell_type": "markdown",
   "metadata": {},
   "source": [
    "## Submission\n",
    "\n",
    "1. Save file to confirm all changes are on disk\n",
    "2. Run *Kernel > Restart & Run All* to execute all code from top to bottom\n",
    "3. Save file again to write any new output to disk\n",
    "4. Select *File > Save and export Notebook as > HTML*.\n",
    "5. Open in Google Chrome and print to PDF.\n",
    "6. Submit to Gradescope"
   ]
  },
  {
   "cell_type": "markdown",
   "metadata": {},
   "source": [
    " "
   ]
  }
 ],
 "metadata": {
  "celltoolbar": "Edit Metadata",
  "kernelspec": {
   "display_name": "Python 3 (ipykernel)",
   "language": "python",
   "name": "python3"
  },
  "language_info": {
   "codemirror_mode": {
    "name": "ipython",
    "version": 3
   },
   "file_extension": ".py",
   "mimetype": "text/x-python",
   "name": "python",
   "nbconvert_exporter": "python",
   "pygments_lexer": "ipython3",
   "version": "3.10.9"
  },
  "toc": {
   "base_numbering": 1,
   "nav_menu": {},
   "number_sections": false,
   "sideBar": true,
   "skip_h1_title": false,
   "title_cell": "Table of Contents",
   "title_sidebar": "Contents",
   "toc_cell": true,
   "toc_position": {
    "height": "calc(100% - 180px)",
    "left": "10px",
    "top": "150px",
    "width": "324.667px"
   },
   "toc_section_display": true,
   "toc_window_display": true
  },
  "vscode": {
   "interpreter": {
    "hash": "d4d1e4263499bec80672ea0156c357c1ee493ec2b1c70f0acce89fc37c4a6abe"
   }
  }
 },
 "nbformat": 4,
 "nbformat_minor": 4
}
