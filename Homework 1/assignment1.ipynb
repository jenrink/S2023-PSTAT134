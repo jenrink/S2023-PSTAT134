{
 "cells": [
  {
   "cell_type": "code",
   "execution_count": 1,
   "metadata": {
    "deletable": false,
    "editable": false
   },
   "outputs": [],
   "source": [
    "# Initialize Otter\n",
    "import otter\n",
    "grader = otter.Notebook(\"assignment1.ipynb\")"
   ]
  },
  {
   "cell_type": "markdown",
   "metadata": {
    "nbgrader": {
     "grade": false,
     "grade_id": "title",
     "locked": true,
     "schema_version": 2,
     "solution": false
    }
   },
   "source": [
    "# Assignment 1: 2018 US House Elections\n",
    "**PSTAT 134/234 (Winter 2023)  \n",
    "Due Date: Monday, May 1st, 11:59 PM**\n",
    "\n",
    "## Collaboration Policy\n",
    "\n",
    "Data science is a collaborative activity. While you may talk with others about\n",
    "the homework, we ask that you **write your solutions individually**. If you do\n",
    "discuss the assignments with others please **include their names** at the top\n",
    "of your notebook.\n",
    "\n",
    "**Assignment completed by Jennifer Rink**"
   ]
  },
  {
   "cell_type": "markdown",
   "metadata": {},
   "source": [
    "## Direction and Goal\n",
    "\n",
    "![election_prediction](include/clinton-trump-rating.png)  \n",
    "[image credit](https://donsnotes.com/politics/images/clinton-trump-rating.png)\n",
    "\n",
    "We haven't talked about predictive models, but we can still think about what makes a \"good\" prediction.  In this assignment, we'll focus on evaluating the quality of election predictions made by the website [fivethirtyeight.com](https://www.fivethirtyeight.com).  As one prominent example, fivethirtyeight predicted that Clinton had a 70.9% chance to win the election.  Was their model wrong?\n",
    "\n",
    "To gain insight into questions like this, we'll focus on  [US House elections predictions from 2018](https://projects.fivethirtyeight.com/2018-midterm-election-forecast/house/).  Their predictions are based predominantly on polling data but include other sources as well (state of the economy, overall favoriability of politic parties, etc).  \n",
    "\n",
    "This homework is based loosely on [this article](https://projects.fivethirtyeight.com/checking-our-work/).  Please read the article before beginning the assignment."
   ]
  },
  {
   "cell_type": "markdown",
   "metadata": {},
   "source": [
    "## Question 1: Data Processing"
   ]
  },
  {
   "cell_type": "markdown",
   "metadata": {},
   "source": [
    "### Read Data into Python\n",
    "\n",
    "Numpy and Pandas is used to read in the csv file into python."
   ]
  },
  {
   "cell_type": "code",
   "execution_count": 2,
   "metadata": {},
   "outputs": [],
   "source": [
    "import pandas as pd\n",
    "import numpy as np\n",
    "election_data = pd.read_csv(\"us_house_elections.csv\", low_memory=False)"
   ]
  },
  {
   "cell_type": "markdown",
   "metadata": {},
   "source": [
    "Add column of zeros named `bin` to `election_data` (we will populate this column with meaningful data later) and `print` the first 10 rows of the `DataFrame` using `iloc`."
   ]
  },
  {
   "cell_type": "code",
   "execution_count": 3,
   "metadata": {},
   "outputs": [
    {
     "data": {
      "text/html": [
       "<div>\n",
       "<style scoped>\n",
       "    .dataframe tbody tr th:only-of-type {\n",
       "        vertical-align: middle;\n",
       "    }\n",
       "\n",
       "    .dataframe tbody tr th {\n",
       "        vertical-align: top;\n",
       "    }\n",
       "\n",
       "    .dataframe thead th {\n",
       "        text-align: right;\n",
       "    }\n",
       "</style>\n",
       "<table border=\"1\" class=\"dataframe\">\n",
       "  <thead>\n",
       "    <tr style=\"text-align: right;\">\n",
       "      <th></th>\n",
       "      <th>year</th>\n",
       "      <th>office</th>\n",
       "      <th>state</th>\n",
       "      <th>district</th>\n",
       "      <th>election_date</th>\n",
       "      <th>forecast_date</th>\n",
       "      <th>forecast_type</th>\n",
       "      <th>party</th>\n",
       "      <th>candidate</th>\n",
       "      <th>projected_voteshare</th>\n",
       "      <th>actual_voteshare</th>\n",
       "      <th>probwin</th>\n",
       "      <th>probwin_outcome</th>\n",
       "      <th>bin</th>\n",
       "    </tr>\n",
       "  </thead>\n",
       "  <tbody>\n",
       "    <tr>\n",
       "      <th>0</th>\n",
       "      <td>2022</td>\n",
       "      <td>House</td>\n",
       "      <td>WY</td>\n",
       "      <td>1.0</td>\n",
       "      <td>2022-11-08</td>\n",
       "      <td>2022-11-08</td>\n",
       "      <td>lite</td>\n",
       "      <td>D</td>\n",
       "      <td>Lynnette GreyBull</td>\n",
       "      <td>30.15680</td>\n",
       "      <td>24.367980</td>\n",
       "      <td>0.000825</td>\n",
       "      <td>0</td>\n",
       "      <td>0</td>\n",
       "    </tr>\n",
       "    <tr>\n",
       "      <th>1</th>\n",
       "      <td>2022</td>\n",
       "      <td>House</td>\n",
       "      <td>WY</td>\n",
       "      <td>1.0</td>\n",
       "      <td>2022-11-08</td>\n",
       "      <td>2022-11-08</td>\n",
       "      <td>lite</td>\n",
       "      <td>R</td>\n",
       "      <td>Harriet Hageman</td>\n",
       "      <td>63.80236</td>\n",
       "      <td>68.181865</td>\n",
       "      <td>0.999175</td>\n",
       "      <td>1</td>\n",
       "      <td>0</td>\n",
       "    </tr>\n",
       "    <tr>\n",
       "      <th>2</th>\n",
       "      <td>2022</td>\n",
       "      <td>House</td>\n",
       "      <td>WV</td>\n",
       "      <td>2.0</td>\n",
       "      <td>2022-11-08</td>\n",
       "      <td>2022-11-08</td>\n",
       "      <td>lite</td>\n",
       "      <td>D</td>\n",
       "      <td>Barry Lee Wendell</td>\n",
       "      <td>31.10924</td>\n",
       "      <td>34.431366</td>\n",
       "      <td>0.000500</td>\n",
       "      <td>0</td>\n",
       "      <td>0</td>\n",
       "    </tr>\n",
       "    <tr>\n",
       "      <th>3</th>\n",
       "      <td>2022</td>\n",
       "      <td>House</td>\n",
       "      <td>WV</td>\n",
       "      <td>2.0</td>\n",
       "      <td>2022-11-08</td>\n",
       "      <td>2022-11-08</td>\n",
       "      <td>lite</td>\n",
       "      <td>R</td>\n",
       "      <td>Alexander X. Mooney</td>\n",
       "      <td>68.89076</td>\n",
       "      <td>65.568634</td>\n",
       "      <td>0.999500</td>\n",
       "      <td>1</td>\n",
       "      <td>0</td>\n",
       "    </tr>\n",
       "    <tr>\n",
       "      <th>4</th>\n",
       "      <td>2022</td>\n",
       "      <td>House</td>\n",
       "      <td>WV</td>\n",
       "      <td>1.0</td>\n",
       "      <td>2022-11-08</td>\n",
       "      <td>2022-11-08</td>\n",
       "      <td>lite</td>\n",
       "      <td>D</td>\n",
       "      <td>Lacy Watson</td>\n",
       "      <td>29.45659</td>\n",
       "      <td>28.798042</td>\n",
       "      <td>0.000725</td>\n",
       "      <td>0</td>\n",
       "      <td>0</td>\n",
       "    </tr>\n",
       "    <tr>\n",
       "      <th>5</th>\n",
       "      <td>2022</td>\n",
       "      <td>House</td>\n",
       "      <td>WV</td>\n",
       "      <td>1.0</td>\n",
       "      <td>2022-11-08</td>\n",
       "      <td>2022-11-08</td>\n",
       "      <td>lite</td>\n",
       "      <td>R</td>\n",
       "      <td>Carol Miller</td>\n",
       "      <td>67.39098</td>\n",
       "      <td>66.687354</td>\n",
       "      <td>0.999275</td>\n",
       "      <td>1</td>\n",
       "      <td>0</td>\n",
       "    </tr>\n",
       "    <tr>\n",
       "      <th>6</th>\n",
       "      <td>2022</td>\n",
       "      <td>House</td>\n",
       "      <td>WI</td>\n",
       "      <td>8.0</td>\n",
       "      <td>2022-11-08</td>\n",
       "      <td>2022-11-08</td>\n",
       "      <td>lite</td>\n",
       "      <td>R</td>\n",
       "      <td>Mike Gallagher</td>\n",
       "      <td>80.13477</td>\n",
       "      <td>72.206282</td>\n",
       "      <td>1.000000</td>\n",
       "      <td>1</td>\n",
       "      <td>0</td>\n",
       "    </tr>\n",
       "    <tr>\n",
       "      <th>7</th>\n",
       "      <td>2022</td>\n",
       "      <td>House</td>\n",
       "      <td>WI</td>\n",
       "      <td>7.0</td>\n",
       "      <td>2022-11-08</td>\n",
       "      <td>2022-11-08</td>\n",
       "      <td>lite</td>\n",
       "      <td>D</td>\n",
       "      <td>Richard Dick Ausman</td>\n",
       "      <td>35.73003</td>\n",
       "      <td>38.099081</td>\n",
       "      <td>0.006075</td>\n",
       "      <td>0</td>\n",
       "      <td>0</td>\n",
       "    </tr>\n",
       "    <tr>\n",
       "      <th>8</th>\n",
       "      <td>2022</td>\n",
       "      <td>House</td>\n",
       "      <td>WI</td>\n",
       "      <td>7.0</td>\n",
       "      <td>2022-11-08</td>\n",
       "      <td>2022-11-08</td>\n",
       "      <td>lite</td>\n",
       "      <td>R</td>\n",
       "      <td>Tom Tiffany</td>\n",
       "      <td>64.26997</td>\n",
       "      <td>61.851550</td>\n",
       "      <td>0.993925</td>\n",
       "      <td>1</td>\n",
       "      <td>0</td>\n",
       "    </tr>\n",
       "    <tr>\n",
       "      <th>9</th>\n",
       "      <td>2022</td>\n",
       "      <td>House</td>\n",
       "      <td>WI</td>\n",
       "      <td>6.0</td>\n",
       "      <td>2022-11-08</td>\n",
       "      <td>2022-11-08</td>\n",
       "      <td>lite</td>\n",
       "      <td>R</td>\n",
       "      <td>Glenn Grothman</td>\n",
       "      <td>100.00000</td>\n",
       "      <td>94.933313</td>\n",
       "      <td>1.000000</td>\n",
       "      <td>1</td>\n",
       "      <td>0</td>\n",
       "    </tr>\n",
       "  </tbody>\n",
       "</table>\n",
       "</div>"
      ],
      "text/plain": [
       "   year office state  district election_date forecast_date forecast_type  \\\n",
       "0  2022  House    WY       1.0    2022-11-08    2022-11-08          lite   \n",
       "1  2022  House    WY       1.0    2022-11-08    2022-11-08          lite   \n",
       "2  2022  House    WV       2.0    2022-11-08    2022-11-08          lite   \n",
       "3  2022  House    WV       2.0    2022-11-08    2022-11-08          lite   \n",
       "4  2022  House    WV       1.0    2022-11-08    2022-11-08          lite   \n",
       "5  2022  House    WV       1.0    2022-11-08    2022-11-08          lite   \n",
       "6  2022  House    WI       8.0    2022-11-08    2022-11-08          lite   \n",
       "7  2022  House    WI       7.0    2022-11-08    2022-11-08          lite   \n",
       "8  2022  House    WI       7.0    2022-11-08    2022-11-08          lite   \n",
       "9  2022  House    WI       6.0    2022-11-08    2022-11-08          lite   \n",
       "\n",
       "  party            candidate  projected_voteshare  actual_voteshare   probwin  \\\n",
       "0     D    Lynnette GreyBull             30.15680         24.367980  0.000825   \n",
       "1     R      Harriet Hageman             63.80236         68.181865  0.999175   \n",
       "2     D    Barry Lee Wendell             31.10924         34.431366  0.000500   \n",
       "3     R  Alexander X. Mooney             68.89076         65.568634  0.999500   \n",
       "4     D          Lacy Watson             29.45659         28.798042  0.000725   \n",
       "5     R         Carol Miller             67.39098         66.687354  0.999275   \n",
       "6     R       Mike Gallagher             80.13477         72.206282  1.000000   \n",
       "7     D  Richard Dick Ausman             35.73003         38.099081  0.006075   \n",
       "8     R          Tom Tiffany             64.26997         61.851550  0.993925   \n",
       "9     R       Glenn Grothman            100.00000         94.933313  1.000000   \n",
       "\n",
       "   probwin_outcome  bin  \n",
       "0                0    0  \n",
       "1                1    0  \n",
       "2                0    0  \n",
       "3                1    0  \n",
       "4                0    0  \n",
       "5                1    0  \n",
       "6                1    0  \n",
       "7                0    0  \n",
       "8                1    0  \n",
       "9                1    0  "
      ]
     },
     "execution_count": 3,
     "metadata": {},
     "output_type": "execute_result"
    }
   ],
   "source": [
    "election_data['bin']=0\n",
    "\n",
    "election_data.iloc[:10]"
   ]
  },
  {
   "cell_type": "markdown",
   "metadata": {},
   "source": [
    "Fivethirtyeight has three different prediction models: `lite`, `classic` and `deluxe`, which roughly incorporate an increasing number of assumptions.  In this assignment lets focus on evaluting the quality of the `classic` predictions.  You can read more about how the prediction models work [here](https://fivethirtyeight.com/methodology/how-fivethirtyeights-house-and-senate-models-work/).\n",
    "\n",
    "Fivethirtyeight continuously updated their predictions as more polling data became available for each of the races.  Let's focus on the predictions a few months before the election, on August 11th, and on the morning of election day, November 6th.  "
   ]
  },
  {
   "cell_type": "markdown",
   "metadata": {
    "deletable": false,
    "editable": false
   },
   "source": [
    "### Question 1a: Subset Data\n",
    "\n",
    "<!--\n",
    "BEGIN QUESTION\n",
    "name: q1a\n",
    "manual: false\n",
    "points: 5\n",
    "-->\n",
    "\n",
    "Create a new pandas dataframe called `election_sub` by filtering to include only rows in which the `forecast_type` is \"classic\", and the date of the foreceast (`forecast_date`) is 8/11 or 11/6. \n",
    "\n",
    "Using `query` method seems well-suited.  Note you can make two (or more) calls to `query` by chaining calls to `query` like this: `election_data.query(...).query(...)`. Output of one query will be used as an input to the second query."
   ]
  },
  {
   "cell_type": "code",
   "execution_count": 4,
   "metadata": {
    "tags": []
   },
   "outputs": [],
   "source": [
    "# Fill-in ...\n",
    "election_sub=election_data.query(\"forecast_type == 'classic'\").query(\n",
    "    'forecast_date == \"2018-08-11\" | forecast_date == \"2018-11-06\"')"
   ]
  },
  {
   "cell_type": "code",
   "execution_count": 5,
   "metadata": {
    "deletable": false,
    "editable": false
   },
   "outputs": [
    {
     "data": {
      "text/html": [
       "<p><strong><pre style='display: inline;'>q1a</pre></strong> passed! 🍀</p>"
      ],
      "text/plain": [
       "q1a results: All test cases passed!"
      ]
     },
     "execution_count": 5,
     "metadata": {},
     "output_type": "execute_result"
    }
   ],
   "source": [
    "grader.check(\"q1a\")"
   ]
  },
  {
   "cell_type": "markdown",
   "metadata": {
    "deletable": false,
    "editable": false,
    "tags": []
   },
   "source": [
    "### Question 1b: Filtering Data\n",
    "\n",
    "In previous question, data was subset for two forcast dates: 2018-11-06 and 2018-08-11. Presumably, there _should be_ two rows (predictions) for each candidate; however, you will see that some candidates are missing one of the two predictions and not all name entries are valid.\n",
    "\n",
    "Using Pandas, remove any NaN names and any candidate that does not have two predictions.\n",
    "\n",
    "Finally, overwrite `election_sub` with the filtered data.\n",
    "\n",
    "There are different ways of doing this. I found the following functions useful:\n",
    "\n",
    "* [`pandas.DataFrame.isnull`](https://pandas.pydata.org/pandas-docs/stable/reference/api/pandas.DataFrame.isnull.html)\n",
    "* [`pandas.DataFrame.groupby`](https://pandas.pydata.org/pandas-docs/stable/reference/api/pandas.DataFrame.groupby.html)\n",
    "* [`pandas.core.groupby.DataFrameGroupBy.filter`](https://pandas.pydata.org/pandas-docs/stable/reference/api/pandas.core.groupby.DataFrameGroupBy.filter.html)\n",
    "* [`pandas.DataFrame.shape`](https://pandas.pydata.org/pandas-docs/stable/reference/api/pandas.DataFrame.shape.html)\n",
    "\n",
    "When using the documentation, make sure to use the correct version. You can check by running `pd.__version__`.\n",
    "\n",
    "<!--\n",
    "BEGIN QUESTION\n",
    "name: q1b\n",
    "manual: false\n",
    "points: 3\n",
    "-->"
   ]
  },
  {
   "cell_type": "code",
   "execution_count": 6,
   "metadata": {},
   "outputs": [],
   "source": [
    "# Fill-in ... and ###some task###\n",
    "election_sub = election_sub[~pd.isnull(election_sub['candidate'])].groupby(by=['candidate']).filter(\n",
    "    lambda x: len(x)==2)"
   ]
  },
  {
   "cell_type": "code",
   "execution_count": 7,
   "metadata": {
    "deletable": false,
    "editable": false
   },
   "outputs": [
    {
     "data": {
      "text/html": [
       "<p><strong><pre style='display: inline;'>q1b</pre></strong> passed! 🎉</p>"
      ],
      "text/plain": [
       "q1b results: All test cases passed!"
      ]
     },
     "execution_count": 7,
     "metadata": {},
     "output_type": "execute_result"
    }
   ],
   "source": [
    "grader.check(\"q1b\")"
   ]
  },
  {
   "cell_type": "markdown",
   "metadata": {
    "deletable": false,
    "editable": false,
    "tags": []
   },
   "source": [
    "### Question 1c: Transform Data\n",
    "\n",
    "<!--\n",
    "BEGIN QUESTION\n",
    "name: q1c\n",
    "manual: false\n",
    "points: 3\n",
    "-->\n",
    "\n",
    "We want to check whether events predicted by 538 to occur with probability _close to_ X% actually occured about X% of the time.  To do this, we have to define _close_.\n",
    "\n",
    "First, we'll define the `cut_points` as 20 equally spaced numbers between 0 and 1 using `np.linspace`.  Then we'll group the predicted probabilities into the `19` equally spaced bins determined by those cut points.  Define the bin for each observation using the `pd.cut` function on the `probwin` variable.  Then, assign the result to column `bin` of `election_sub`. Use `include_lowest=True` when calling `pd.cut`.\n",
    "\n",
    "_Note: Can you spot the strange behavior of `include_lowest=True`? [Despite the output, `pd.cut` seems to work correctly](https://github.com/pandas-dev/pandas/issues/23164#issuecomment-510700455)_"
   ]
  },
  {
   "cell_type": "code",
   "execution_count": 8,
   "metadata": {},
   "outputs": [],
   "source": [
    "cut_points = np.linspace(0,1, num=20)\n",
    "election_sub[\"bin\"] = pd.cut(election_sub[\"probwin\"], bins=cut_points, include_lowest=True)"
   ]
  },
  {
   "cell_type": "code",
   "execution_count": 9,
   "metadata": {
    "deletable": false,
    "editable": false
   },
   "outputs": [
    {
     "data": {
      "text/html": [
       "<p><strong><pre style='display: inline;'>q1c</pre></strong> passed! 🌈</p>"
      ],
      "text/plain": [
       "q1c results: All test cases passed!"
      ]
     },
     "execution_count": 9,
     "metadata": {},
     "output_type": "execute_result"
    }
   ],
   "source": [
    "grader.check(\"q1c\")"
   ]
  },
  {
   "cell_type": "markdown",
   "metadata": {},
   "source": [
    "## Question 2: Looking for Insights"
   ]
  },
  {
   "cell_type": "markdown",
   "metadata": {
    "deletable": false,
    "editable": false
   },
   "source": [
    "### Question 2a: Calculate Change in Support\n",
    "\n",
    "Let's see if we can find the candidates whose standings change the most between August 11 and November 6: one with largest improvement and another with largest decrease in win-probability. First, use the `agg` function calculate the difference.\n",
    "\n",
    "Following functions have been useful for me:\n",
    "\n",
    "* [`numpy.diff`](https://docs.scipy.org/doc/numpy/reference/generated/numpy.diff.html)\n",
    "* [`pandas.DataFrame.sort_values`](https://pandas.pydata.org/pandas-docs/stable/reference/api/pandas.DataFrame.sort_values.html)\n",
    "* [`pandas.DataFrame.groupby`](https://pandas.pydata.org/pandas-docs/stable/reference/api/pandas.DataFrame.groupby.html)\n",
    "* [`pandas.DataFrame.agg`](https://pandas.pydata.org/pandas-docs/stable/reference/api/pandas.DataFrame.agg.html): especially, [different functions to columns](https://pandas.pydata.org/pandas-docs/stable/user_guide/groupby.html#applying-different-functions-to-dataframe-columns) \n",
    "\n",
    "Save the resulting DataFrame from `agg()` to a variable, `probwin_change`. \n",
    "\n",
    "<!--\n",
    "BEGIN QUESTION\n",
    "name: q2a\n",
    "manual: false\n",
    "points: 5\n",
    "-->"
   ]
  },
  {
   "cell_type": "code",
   "execution_count": 10,
   "metadata": {
    "tags": []
   },
   "outputs": [
    {
     "data": {
      "text/html": [
       "<div>\n",
       "<style scoped>\n",
       "    .dataframe tbody tr th:only-of-type {\n",
       "        vertical-align: middle;\n",
       "    }\n",
       "\n",
       "    .dataframe tbody tr th {\n",
       "        vertical-align: top;\n",
       "    }\n",
       "\n",
       "    .dataframe thead th {\n",
       "        text-align: right;\n",
       "    }\n",
       "</style>\n",
       "<table border=\"1\" class=\"dataframe\">\n",
       "  <thead>\n",
       "    <tr style=\"text-align: right;\">\n",
       "      <th></th>\n",
       "      <th>probwin</th>\n",
       "    </tr>\n",
       "    <tr>\n",
       "      <th>candidate</th>\n",
       "      <th></th>\n",
       "    </tr>\n",
       "  </thead>\n",
       "  <tbody>\n",
       "    <tr>\n",
       "      <th>A. Donald McEachin</th>\n",
       "      <td>0.00040</td>\n",
       "    </tr>\n",
       "    <tr>\n",
       "      <th>Aaron Andrus</th>\n",
       "      <td>0.00010</td>\n",
       "    </tr>\n",
       "    <tr>\n",
       "      <th>Aaron Swisher</th>\n",
       "      <td>0.00228</td>\n",
       "    </tr>\n",
       "    <tr>\n",
       "      <th>Abby Finkenauer</th>\n",
       "      <td>0.08214</td>\n",
       "    </tr>\n",
       "    <tr>\n",
       "      <th>Abigail Spanberger</th>\n",
       "      <td>0.11884</td>\n",
       "    </tr>\n",
       "    <tr>\n",
       "      <th>...</th>\n",
       "      <td>...</td>\n",
       "    </tr>\n",
       "    <tr>\n",
       "      <th>Young Kim</th>\n",
       "      <td>0.11342</td>\n",
       "    </tr>\n",
       "    <tr>\n",
       "      <th>Yvette Clarke</th>\n",
       "      <td>0.00000</td>\n",
       "    </tr>\n",
       "    <tr>\n",
       "      <th>Yvette Herrell</th>\n",
       "      <td>0.18702</td>\n",
       "    </tr>\n",
       "    <tr>\n",
       "      <th>Yvonne Hayes Hinson</th>\n",
       "      <td>0.00006</td>\n",
       "    </tr>\n",
       "    <tr>\n",
       "      <th>Zoe Lofgren</th>\n",
       "      <td>0.00000</td>\n",
       "    </tr>\n",
       "  </tbody>\n",
       "</table>\n",
       "<p>960 rows × 1 columns</p>\n",
       "</div>"
      ],
      "text/plain": [
       "                     probwin\n",
       "candidate                   \n",
       "A. Donald McEachin   0.00040\n",
       "Aaron Andrus         0.00010\n",
       "Aaron Swisher        0.00228\n",
       "Abby Finkenauer      0.08214\n",
       "Abigail Spanberger   0.11884\n",
       "...                      ...\n",
       "Young Kim            0.11342\n",
       "Yvette Clarke        0.00000\n",
       "Yvette Herrell       0.18702\n",
       "Yvonne Hayes Hinson  0.00006\n",
       "Zoe Lofgren          0.00000\n",
       "\n",
       "[960 rows x 1 columns]"
      ]
     },
     "execution_count": 10,
     "metadata": {},
     "output_type": "execute_result"
    }
   ],
   "source": [
    "probwin_change = election_sub.sort_values(by=['probwin']).groupby(['candidate']).agg({'probwin': lambda x: list(np.diff(x))})\n",
    "probwin_change.probwin = probwin_change.probwin.apply(sum)\n",
    "probwin_change"
   ]
  },
  {
   "cell_type": "code",
   "execution_count": 11,
   "metadata": {
    "deletable": false,
    "editable": false
   },
   "outputs": [
    {
     "data": {
      "text/html": [
       "<p><strong><pre style='display: inline;'>q2a</pre></strong> passed! 🌈</p>"
      ],
      "text/plain": [
       "q2a results: All test cases passed!"
      ]
     },
     "execution_count": 11,
     "metadata": {},
     "output_type": "execute_result"
    }
   ],
   "source": [
    "grader.check(\"q2a\")"
   ]
  },
  {
   "cell_type": "markdown",
   "metadata": {
    "deletable": false,
    "editable": false
   },
   "source": [
    "### Question 2b: Looking for Largest Changes\n",
    "\n",
    "Now, save the name of the candidates to string variables `rising_candidate` (largest increase) and `falling_candidate` (largest decrease).\n",
    "\n",
    "* [`pandas.DataFrmae.idxmax`](https://pandas.pydata.org/pandas-docs/stable/reference/api/pandas.DataFrame.idxmax.html)\n",
    "* [`pandas.DataFrmae.idxmin`](https://pandas.pydata.org/pandas-docs/stable/reference/api/pandas.DataFrame.idxmin.html)\n",
    "\n",
    "<!--\n",
    "BEGIN QUESTION\n",
    "name: q2b\n",
    "manual: false\n",
    "points: 3\n",
    "-->"
   ]
  },
  {
   "cell_type": "code",
   "execution_count": 12,
   "metadata": {},
   "outputs": [],
   "source": [
    "rising_candidate = str(probwin_change.idxmax(axis=0))\n",
    "falling_candidate = str(probwin_change.idxmin(axis=0))"
   ]
  },
  {
   "cell_type": "code",
   "execution_count": 13,
   "metadata": {
    "tags": []
   },
   "outputs": [
    {
     "data": {
      "text/plain": [
       "'probwin    Sharice Davids\\ndtype: object'"
      ]
     },
     "execution_count": 13,
     "metadata": {},
     "output_type": "execute_result"
    }
   ],
   "source": [
    "rising_candidate"
   ]
  },
  {
   "cell_type": "code",
   "execution_count": 14,
   "metadata": {
    "tags": []
   },
   "outputs": [
    {
     "data": {
      "text/plain": [
       "'probwin    Adam B. Schiff\\ndtype: object'"
      ]
     },
     "execution_count": 14,
     "metadata": {},
     "output_type": "execute_result"
    }
   ],
   "source": [
    "falling_candidate"
   ]
  },
  {
   "cell_type": "code",
   "execution_count": 15,
   "metadata": {
    "deletable": false,
    "editable": false
   },
   "outputs": [
    {
     "data": {
      "text/html": [
       "<p><strong><pre style='display: inline;'>q2b</pre></strong> passed! 💯</p>"
      ],
      "text/plain": [
       "q2b results: All test cases passed!"
      ]
     },
     "execution_count": 15,
     "metadata": {},
     "output_type": "execute_result"
    }
   ],
   "source": [
    "grader.check(\"q2b\")"
   ]
  },
  {
   "cell_type": "markdown",
   "metadata": {
    "deletable": false,
    "editable": false
   },
   "source": [
    "<!-- BEGIN QUESTION -->\n",
    "\n",
    "### Question 2c: Verify Outcome\n",
    "\n",
    "Did the candidate win or lose the election? Verify with election outcome.\n",
    "<!--\n",
    "BEGIN QUESTION\n",
    "name: q2c\n",
    "manual: true\n",
    "points: 5\n",
    "-->"
   ]
  },
  {
   "cell_type": "code",
   "execution_count": 16,
   "metadata": {
    "tags": []
   },
   "outputs": [
    {
     "data": {
      "text/html": [
       "<div>\n",
       "<style scoped>\n",
       "    .dataframe tbody tr th:only-of-type {\n",
       "        vertical-align: middle;\n",
       "    }\n",
       "\n",
       "    .dataframe tbody tr th {\n",
       "        vertical-align: top;\n",
       "    }\n",
       "\n",
       "    .dataframe thead th {\n",
       "        text-align: right;\n",
       "    }\n",
       "</style>\n",
       "<table border=\"1\" class=\"dataframe\">\n",
       "  <thead>\n",
       "    <tr style=\"text-align: right;\">\n",
       "      <th></th>\n",
       "      <th>year</th>\n",
       "      <th>office</th>\n",
       "      <th>state</th>\n",
       "      <th>district</th>\n",
       "      <th>election_date</th>\n",
       "      <th>forecast_date</th>\n",
       "      <th>forecast_type</th>\n",
       "      <th>party</th>\n",
       "      <th>candidate</th>\n",
       "      <th>projected_voteshare</th>\n",
       "      <th>actual_voteshare</th>\n",
       "      <th>probwin</th>\n",
       "      <th>probwin_outcome</th>\n",
       "      <th>bin</th>\n",
       "    </tr>\n",
       "  </thead>\n",
       "  <tbody>\n",
       "    <tr>\n",
       "      <th>204324</th>\n",
       "      <td>2018</td>\n",
       "      <td>House</td>\n",
       "      <td>KS</td>\n",
       "      <td>3.0</td>\n",
       "      <td>2018-11-06</td>\n",
       "      <td>2018-11-06</td>\n",
       "      <td>classic</td>\n",
       "      <td>D</td>\n",
       "      <td>Sharice Davids</td>\n",
       "      <td>51.85115</td>\n",
       "      <td>NaN</td>\n",
       "      <td>0.84994</td>\n",
       "      <td>1</td>\n",
       "      <td>(0.842, 0.895]</td>\n",
       "    </tr>\n",
       "    <tr>\n",
       "      <th>455289</th>\n",
       "      <td>2018</td>\n",
       "      <td>House</td>\n",
       "      <td>KS</td>\n",
       "      <td>3.0</td>\n",
       "      <td>2018-11-06</td>\n",
       "      <td>2018-08-11</td>\n",
       "      <td>classic</td>\n",
       "      <td>D</td>\n",
       "      <td>Sharice Davids</td>\n",
       "      <td>44.84660</td>\n",
       "      <td>NaN</td>\n",
       "      <td>0.19566</td>\n",
       "      <td>1</td>\n",
       "      <td>(0.158, 0.211]</td>\n",
       "    </tr>\n",
       "  </tbody>\n",
       "</table>\n",
       "</div>"
      ],
      "text/plain": [
       "        year office state  district election_date forecast_date forecast_type  \\\n",
       "204324  2018  House    KS       3.0    2018-11-06    2018-11-06       classic   \n",
       "455289  2018  House    KS       3.0    2018-11-06    2018-08-11       classic   \n",
       "\n",
       "       party       candidate  projected_voteshare  actual_voteshare  probwin  \\\n",
       "204324     D  Sharice Davids             51.85115               NaN  0.84994   \n",
       "455289     D  Sharice Davids             44.84660               NaN  0.19566   \n",
       "\n",
       "        probwin_outcome             bin  \n",
       "204324                1  (0.842, 0.895]  \n",
       "455289                1  (0.158, 0.211]  "
      ]
     },
     "execution_count": 16,
     "metadata": {},
     "output_type": "execute_result"
    }
   ],
   "source": [
    "election_sub[election_sub[\"candidate\"]=='Sharice Davids']"
   ]
  },
  {
   "cell_type": "code",
   "execution_count": 17,
   "metadata": {
    "tags": []
   },
   "outputs": [
    {
     "data": {
      "text/html": [
       "<div>\n",
       "<style scoped>\n",
       "    .dataframe tbody tr th:only-of-type {\n",
       "        vertical-align: middle;\n",
       "    }\n",
       "\n",
       "    .dataframe tbody tr th {\n",
       "        vertical-align: top;\n",
       "    }\n",
       "\n",
       "    .dataframe thead th {\n",
       "        text-align: right;\n",
       "    }\n",
       "</style>\n",
       "<table border=\"1\" class=\"dataframe\">\n",
       "  <thead>\n",
       "    <tr style=\"text-align: right;\">\n",
       "      <th></th>\n",
       "      <th>year</th>\n",
       "      <th>office</th>\n",
       "      <th>state</th>\n",
       "      <th>district</th>\n",
       "      <th>election_date</th>\n",
       "      <th>forecast_date</th>\n",
       "      <th>forecast_type</th>\n",
       "      <th>party</th>\n",
       "      <th>candidate</th>\n",
       "      <th>projected_voteshare</th>\n",
       "      <th>actual_voteshare</th>\n",
       "      <th>probwin</th>\n",
       "      <th>probwin_outcome</th>\n",
       "      <th>bin</th>\n",
       "    </tr>\n",
       "  </thead>\n",
       "  <tbody>\n",
       "    <tr>\n",
       "      <th>205075</th>\n",
       "      <td>2018</td>\n",
       "      <td>House</td>\n",
       "      <td>CA</td>\n",
       "      <td>28.0</td>\n",
       "      <td>2018-11-06</td>\n",
       "      <td>2018-11-06</td>\n",
       "      <td>classic</td>\n",
       "      <td>D</td>\n",
       "      <td>Adam B. Schiff</td>\n",
       "      <td>81.81078</td>\n",
       "      <td>NaN</td>\n",
       "      <td>1.0</td>\n",
       "      <td>1</td>\n",
       "      <td>(0.947, 1.0]</td>\n",
       "    </tr>\n",
       "    <tr>\n",
       "      <th>456037</th>\n",
       "      <td>2018</td>\n",
       "      <td>House</td>\n",
       "      <td>CA</td>\n",
       "      <td>28.0</td>\n",
       "      <td>2018-11-06</td>\n",
       "      <td>2018-08-11</td>\n",
       "      <td>classic</td>\n",
       "      <td>D</td>\n",
       "      <td>Adam B. Schiff</td>\n",
       "      <td>80.84081</td>\n",
       "      <td>NaN</td>\n",
       "      <td>1.0</td>\n",
       "      <td>1</td>\n",
       "      <td>(0.947, 1.0]</td>\n",
       "    </tr>\n",
       "  </tbody>\n",
       "</table>\n",
       "</div>"
      ],
      "text/plain": [
       "        year office state  district election_date forecast_date forecast_type  \\\n",
       "205075  2018  House    CA      28.0    2018-11-06    2018-11-06       classic   \n",
       "456037  2018  House    CA      28.0    2018-11-06    2018-08-11       classic   \n",
       "\n",
       "       party       candidate  projected_voteshare  actual_voteshare  probwin  \\\n",
       "205075     D  Adam B. Schiff             81.81078               NaN      1.0   \n",
       "456037     D  Adam B. Schiff             80.84081               NaN      1.0   \n",
       "\n",
       "        probwin_outcome           bin  \n",
       "205075                1  (0.947, 1.0]  \n",
       "456037                1  (0.947, 1.0]  "
      ]
     },
     "execution_count": 17,
     "metadata": {},
     "output_type": "execute_result"
    }
   ],
   "source": [
    "election_sub[election_sub[\"candidate\"]=='Adam B. Schiff']"
   ]
  },
  {
   "cell_type": "markdown",
   "metadata": {},
   "source": [
    "The rising candidate, Sharice Davids, won the election.\n",
    "\n",
    "The falling candidate, Adam B. Schiff, won the election. "
   ]
  },
  {
   "cell_type": "markdown",
   "metadata": {},
   "source": [
    "<!-- END QUESTION -->\n",
    "\n",
    "\n",
    "\n",
    "## Prediction vs Actual Outcomes"
   ]
  },
  {
   "cell_type": "markdown",
   "metadata": {
    "deletable": false,
    "editable": false
   },
   "source": [
    "<!-- BEGIN QUESTION -->\n",
    "\n",
    "### Question 3a: Prediction Histogram\n",
    "\n",
    "Make a histogram showing the predicted win probabilities _on the morning of the election._  Again, restrict yourself to only the `classic` predictions.\n",
    "\n",
    "<!--\n",
    "BEGIN QUESTION\n",
    "name: q3a\n",
    "manual: true\n",
    "points: 5\n",
    "-->"
   ]
  },
  {
   "cell_type": "code",
   "execution_count": 18,
   "metadata": {},
   "outputs": [
    {
     "data": {
      "image/png": "[encoded data removed]",
      "text/plain": [
       "<Figure size 700x500 with 1 Axes>"
      ]
     },
     "metadata": {},
     "output_type": "display_data"
    }
   ],
   "source": [
    "classic_preds=election_sub[(election_sub['forecast_date']=='2018-11-06') & (election_sub['forecast_type']=='classic')]\n",
    "winprobs_classic=classic_preds['probwin']\n",
    "\n",
    "import matplotlib.pyplot as plt\n",
    "\n",
    "plt.figure(figsize=(7,5))\n",
    "plt.hist(winprobs_classic, bins=5)\n",
    "plt.xlabel('Win Probabilites (Classic)')\n",
    "plt.ylabel('count')\n",
    "plt.show()"
   ]
  },
  {
   "cell_type": "markdown",
   "metadata": {
    "deletable": false,
    "editable": false
   },
   "source": [
    "<!-- END QUESTION -->\n",
    "\n",
    "<!-- BEGIN QUESTION -->\n",
    "\n",
    "### Question 3b: Prediction difficulty \n",
    "\n",
    "Are most house elections easy to forecast or hard to forecast? State your reasoning.\n",
    "\n",
    "<!--\n",
    "BEGIN QUESTION\n",
    "name: q3b\n",
    "manual: true\n",
    "points: 5\n",
    "-->"
   ]
  },
  {
   "cell_type": "markdown",
   "metadata": {},
   "source": [
    "Most house elections are easy to forecast because a majority of the win probabilities are either really high or really low, indicating a high amount of confidence in a certain outcome. \n",
    "\n",
    "If the number of win probabilities with a value of 0.5 was the highest, then I would say that the election is difficult to predict because there is no certaintanty for either outcome. "
   ]
  },
  {
   "cell_type": "markdown",
   "metadata": {
    "deletable": false,
    "editable": false
   },
   "source": [
    "<!-- END QUESTION -->\n",
    "\n",
    "### Question 4a: Compute Actual Outcomes\n",
    "\n",
    "Now we've grouped the observations into a discrete set of bins according to the predicted probability, `probwin`.  Within each bin, we now want to compute the actual fraction of times the candidates won.\n",
    "\n",
    "If 538 did a good job, it will be close to the predited probabilities.  You'll need to use the `groupby` function to compute the mean of `probwin_outcome` (1 is a win and 0 is a loss) within each bin. Once again you can use `agg` method here.  \n",
    "\n",
    "Save the fraction of actual wins in each bin in a list called `fraction_outcome`.\n",
    "\n",
    "<!--\n",
    "BEGIN QUESTION\n",
    "name: q4a\n",
    "manual: false\n",
    "points: 5\n",
    "-->"
   ]
  },
  {
   "cell_type": "code",
   "execution_count": 19,
   "metadata": {},
   "outputs": [],
   "source": [
    "fraction_outcome = election_sub.groupby('bin')['probwin_outcome'].mean().to_frame()"
   ]
  },
  {
   "cell_type": "code",
   "execution_count": 20,
   "metadata": {
    "deletable": false,
    "editable": false
   },
   "outputs": [
    {
     "data": {
      "text/html": [
       "<p><strong><pre style='display: inline;'>q4a</pre></strong> passed! 🎉</p>"
      ],
      "text/plain": [
       "q4a results: All test cases passed!"
      ]
     },
     "execution_count": 20,
     "metadata": {},
     "output_type": "execute_result"
    }
   ],
   "source": [
    "grader.check(\"q4a\")"
   ]
  },
  {
   "cell_type": "markdown",
   "metadata": {
    "deletable": false,
    "editable": false
   },
   "source": [
    "### Question 4b: Preparing to Present Results\n",
    "\n",
    "<!--\n",
    "BEGIN QUESTION\n",
    "name: q4b\n",
    "manual: false\n",
    "points: 5\n",
    "-->\n",
    "\n",
    "For this problem we'll make a plot of the predicted probabilities and actual fraction of wins in each bin.  We've already computed the actual fraction of wins; all that remains is to plot it against the predicted value assocaited with each bin.\n",
    "\n",
    "For the predicted value in each bin, using the midpoint of the bin would make sense.  Compute the midpoints of each bin from `cut_points`."
   ]
  },
  {
   "cell_type": "code",
   "execution_count": 21,
   "metadata": {},
   "outputs": [
    {
     "data": {
      "text/plain": [
       "array([0.02631579, 0.07894737, 0.13157895, 0.18421053, 0.23684211,\n",
       "       0.28947368, 0.34210526, 0.39473684, 0.44736842, 0.5       ,\n",
       "       0.55263158, 0.60526316, 0.65789474, 0.71052632, 0.76315789,\n",
       "       0.81578947, 0.86842105, 0.92105263, 0.97368421])"
      ]
     },
     "execution_count": 21,
     "metadata": {},
     "output_type": "execute_result"
    }
   ],
   "source": [
    "midpoints = cut_points[:-1] + np.diff(cut_points/2)\n",
    "midpoints"
   ]
  },
  {
   "cell_type": "code",
   "execution_count": 22,
   "metadata": {
    "deletable": false,
    "editable": false
   },
   "outputs": [
    {
     "data": {
      "text/html": [
       "<p><strong><pre style='display: inline;'>q4b</pre></strong> passed! 🌟</p>"
      ],
      "text/plain": [
       "q4b results: All test cases passed!"
      ]
     },
     "execution_count": 22,
     "metadata": {},
     "output_type": "execute_result"
    }
   ],
   "source": [
    "grader.check(\"q4b\")"
   ]
  },
  {
   "cell_type": "markdown",
   "metadata": {
    "deletable": false,
    "editable": false
   },
   "source": [
    "<!-- BEGIN QUESTION -->\n",
    "\n",
    "### Question 4c: Visualize Results\n",
    "\n",
    "<!--\n",
    "BEGIN QUESTION\n",
    "name: q4c\n",
    "manual: true \n",
    "points: 5\n",
    "-->\n",
    "\n",
    "Now make a scatterplot using `midpoints` as the x variable and `fraction_outcome` as the y variable.  Draw a dashed line from `[0,0]` to `[1,1]` to mark the line y=x.  "
   ]
  },
  {
   "cell_type": "code",
   "execution_count": 23,
   "metadata": {},
   "outputs": [
    {
     "data": {
      "text/plain": [
       "Text(0, 0.5, 'Outcome Fraction')"
      ]
     },
     "execution_count": 23,
     "metadata": {},
     "output_type": "execute_result"
    },
    {
     "data": {
      "image/png": "[encoded data removed]",
      "text/plain": [
       "<Figure size 640x480 with 1 Axes>"
      ]
     },
     "metadata": {},
     "output_type": "display_data"
    }
   ],
   "source": [
    "# magic for showing figures inline\n",
    "%matplotlib inline \n",
    "import matplotlib.pyplot as plt\n",
    "\n",
    "plt.plot([0,1], 'm--')\n",
    "plt.plot(midpoints, fraction_outcome, 'p')\n",
    "plt.xlabel('Midpoints')\n",
    "plt.ylabel('Outcome Fraction')"
   ]
  },
  {
   "cell_type": "markdown",
   "metadata": {},
   "source": [
    "<!-- END QUESTION -->\n",
    "\n",
    "\n",
    "\n",
    "## Quantifying Uncertainty"
   ]
  },
  {
   "cell_type": "markdown",
   "metadata": {
    "deletable": false,
    "editable": false
   },
   "source": [
    "### Question 5a: Model-based Error Estimation\n",
    "\n",
    "If you did things correctly, it should look like fivethirtyeight has done \"pretty\" well with their forecasts: the actual fraction of wins tracks closely with the predicted number.\n",
    "\n",
    "But how do we decide what's \"good enough\"? Consider this example: I correctly predict that a coin is fair (e.g. that it has a 50% chance of heads, 50% chance of tails).  But if I flip it 100 times, I can be pretty sure it won't come up heads exactly 50 times.  The fact that heads didn't come up exactly 50 times doesn't make my prediction incorrect.\n",
    "\n",
    "To assess how reasonable the predictions are, I need to quantify the uncertainty in my estimate.  It's reasonable to assume that within each bin, $k$, the observed number of wins, $Y_k \\sim \\text{Binomial}\\,(n_k, p_k)$, where $n_k$ is the number of elections and $p_k$ is the predicted win probability in bin $k$.\n",
    "\n",
    "Classical results tell us that the obseved fraction of wins in bin $k$, $\\hat p = \\frac{Y_k}{n_k}$ has variance $\\operatorname{Var}\\left(\\hat p_k\\right) = \\frac{p_k (1-p_k)}{n_k} \\approx \\frac{\\hat p_k(1- \\hat p_k)}{n_k}$.  The standard deviation of the Binomial proportion then is $\\hat \\sigma_k \\approx \\sqrt{\\frac{\\hat p_k(1- \\hat p_k)}{n_k}}$.  \n",
    "\n",
    "If we use the [normal approximation to generate a confidence interval](https://en.wikipedia.org/wiki/Binomial_proportion_confidence_interval#Normal_approximation_interval), then the 95% interval has the form $\\hat p_k \\pm 1.96 \\hat \\sigma_k$.\n",
    "\n",
    "Create a new \"aggregated\" dataframe named `election_agg`.  Take `election_sub`, group by `bin` and compute both the average of the `probwin_outcome` (`mean`) and the number of observations in each bin (`count`) using the `agg` function.  Call this new data frame, `election_agg`.\n",
    "\n",
    "THen, use the `mean` and `count` columns of `election_agg` to create a new column of `election_agg` titled `err`, which stores $1.96 \\times \\hat \\sigma_k$ in each bin $k$.\n",
    "\n",
    "<!--\n",
    "BEGIN QUESTION\n",
    "name: q5a\n",
    "manual: false\n",
    "points: 3\n",
    "-->"
   ]
  },
  {
   "cell_type": "code",
   "execution_count": 24,
   "metadata": {},
   "outputs": [
    {
     "data": {
      "text/html": [
       "<div>\n",
       "<style scoped>\n",
       "    .dataframe tbody tr th:only-of-type {\n",
       "        vertical-align: middle;\n",
       "    }\n",
       "\n",
       "    .dataframe tbody tr th {\n",
       "        vertical-align: top;\n",
       "    }\n",
       "\n",
       "    .dataframe thead th {\n",
       "        text-align: right;\n",
       "    }\n",
       "</style>\n",
       "<table border=\"1\" class=\"dataframe\">\n",
       "  <thead>\n",
       "    <tr style=\"text-align: right;\">\n",
       "      <th></th>\n",
       "      <th>mean</th>\n",
       "      <th>count</th>\n",
       "      <th>err</th>\n",
       "    </tr>\n",
       "    <tr>\n",
       "      <th>bin</th>\n",
       "      <th></th>\n",
       "      <th></th>\n",
       "      <th></th>\n",
       "    </tr>\n",
       "  </thead>\n",
       "  <tbody>\n",
       "    <tr>\n",
       "      <th>(-0.001, 0.0526]</th>\n",
       "      <td>0.001186</td>\n",
       "      <td>843</td>\n",
       "      <td>0.002324</td>\n",
       "    </tr>\n",
       "    <tr>\n",
       "      <th>(0.0526, 0.105]</th>\n",
       "      <td>0.062500</td>\n",
       "      <td>32</td>\n",
       "      <td>0.083870</td>\n",
       "    </tr>\n",
       "    <tr>\n",
       "      <th>(0.105, 0.158]</th>\n",
       "      <td>0.023810</td>\n",
       "      <td>42</td>\n",
       "      <td>0.046108</td>\n",
       "    </tr>\n",
       "    <tr>\n",
       "      <th>(0.158, 0.211]</th>\n",
       "      <td>0.142857</td>\n",
       "      <td>28</td>\n",
       "      <td>0.129615</td>\n",
       "    </tr>\n",
       "    <tr>\n",
       "      <th>(0.211, 0.263]</th>\n",
       "      <td>0.200000</td>\n",
       "      <td>30</td>\n",
       "      <td>0.143138</td>\n",
       "    </tr>\n",
       "    <tr>\n",
       "      <th>(0.263, 0.316]</th>\n",
       "      <td>0.058824</td>\n",
       "      <td>17</td>\n",
       "      <td>0.111852</td>\n",
       "    </tr>\n",
       "    <tr>\n",
       "      <th>(0.316, 0.368]</th>\n",
       "      <td>0.235294</td>\n",
       "      <td>17</td>\n",
       "      <td>0.201644</td>\n",
       "    </tr>\n",
       "    <tr>\n",
       "      <th>(0.368, 0.421]</th>\n",
       "      <td>0.272727</td>\n",
       "      <td>22</td>\n",
       "      <td>0.186105</td>\n",
       "    </tr>\n",
       "    <tr>\n",
       "      <th>(0.421, 0.474]</th>\n",
       "      <td>0.466667</td>\n",
       "      <td>15</td>\n",
       "      <td>0.252472</td>\n",
       "    </tr>\n",
       "    <tr>\n",
       "      <th>(0.474, 0.526]</th>\n",
       "      <td>0.500000</td>\n",
       "      <td>16</td>\n",
       "      <td>0.245000</td>\n",
       "    </tr>\n",
       "    <tr>\n",
       "      <th>(0.526, 0.579]</th>\n",
       "      <td>0.533333</td>\n",
       "      <td>15</td>\n",
       "      <td>0.252472</td>\n",
       "    </tr>\n",
       "    <tr>\n",
       "      <th>(0.579, 0.632]</th>\n",
       "      <td>0.727273</td>\n",
       "      <td>22</td>\n",
       "      <td>0.186105</td>\n",
       "    </tr>\n",
       "    <tr>\n",
       "      <th>(0.632, 0.684]</th>\n",
       "      <td>0.764706</td>\n",
       "      <td>17</td>\n",
       "      <td>0.201644</td>\n",
       "    </tr>\n",
       "    <tr>\n",
       "      <th>(0.684, 0.737]</th>\n",
       "      <td>0.941176</td>\n",
       "      <td>17</td>\n",
       "      <td>0.111852</td>\n",
       "    </tr>\n",
       "    <tr>\n",
       "      <th>(0.737, 0.789]</th>\n",
       "      <td>0.800000</td>\n",
       "      <td>30</td>\n",
       "      <td>0.143138</td>\n",
       "    </tr>\n",
       "    <tr>\n",
       "      <th>(0.789, 0.842]</th>\n",
       "      <td>0.857143</td>\n",
       "      <td>28</td>\n",
       "      <td>0.129615</td>\n",
       "    </tr>\n",
       "    <tr>\n",
       "      <th>(0.842, 0.895]</th>\n",
       "      <td>0.976190</td>\n",
       "      <td>42</td>\n",
       "      <td>0.046108</td>\n",
       "    </tr>\n",
       "    <tr>\n",
       "      <th>(0.895, 0.947]</th>\n",
       "      <td>0.937500</td>\n",
       "      <td>32</td>\n",
       "      <td>0.083870</td>\n",
       "    </tr>\n",
       "    <tr>\n",
       "      <th>(0.947, 1.0]</th>\n",
       "      <td>0.998473</td>\n",
       "      <td>655</td>\n",
       "      <td>0.002990</td>\n",
       "    </tr>\n",
       "  </tbody>\n",
       "</table>\n",
       "</div>"
      ],
      "text/plain": [
       "                      mean  count       err\n",
       "bin                                        \n",
       "(-0.001, 0.0526]  0.001186    843  0.002324\n",
       "(0.0526, 0.105]   0.062500     32  0.083870\n",
       "(0.105, 0.158]    0.023810     42  0.046108\n",
       "(0.158, 0.211]    0.142857     28  0.129615\n",
       "(0.211, 0.263]    0.200000     30  0.143138\n",
       "(0.263, 0.316]    0.058824     17  0.111852\n",
       "(0.316, 0.368]    0.235294     17  0.201644\n",
       "(0.368, 0.421]    0.272727     22  0.186105\n",
       "(0.421, 0.474]    0.466667     15  0.252472\n",
       "(0.474, 0.526]    0.500000     16  0.245000\n",
       "(0.526, 0.579]    0.533333     15  0.252472\n",
       "(0.579, 0.632]    0.727273     22  0.186105\n",
       "(0.632, 0.684]    0.764706     17  0.201644\n",
       "(0.684, 0.737]    0.941176     17  0.111852\n",
       "(0.737, 0.789]    0.800000     30  0.143138\n",
       "(0.789, 0.842]    0.857143     28  0.129615\n",
       "(0.842, 0.895]    0.976190     42  0.046108\n",
       "(0.895, 0.947]    0.937500     32  0.083870\n",
       "(0.947, 1.0]      0.998473    655  0.002990"
      ]
     },
     "execution_count": 24,
     "metadata": {},
     "output_type": "execute_result"
    }
   ],
   "source": [
    "election_agg = election_sub.groupby('bin').agg(mean=('probwin_outcome', np.mean), count=('bin', 'count'))\n",
    "\n",
    "std_k=np.sqrt((election_agg['mean']*(1-election_agg['mean']))/election_agg['count'])\n",
    "election_agg['err']= 1.96*std_k\n",
    "\n",
    "election_agg"
   ]
  },
  {
   "cell_type": "code",
   "execution_count": 25,
   "metadata": {
    "deletable": false,
    "editable": false
   },
   "outputs": [
    {
     "data": {
      "text/html": [
       "<p><strong><pre style='display: inline;'>q5a</pre></strong> passed! 🚀</p>"
      ],
      "text/plain": [
       "q5a results: All test cases passed!"
      ]
     },
     "execution_count": 25,
     "metadata": {},
     "output_type": "execute_result"
    }
   ],
   "source": [
    "grader.check(\"q5a\")"
   ]
  },
  {
   "cell_type": "markdown",
   "metadata": {
    "deletable": false,
    "editable": false
   },
   "source": [
    "<!-- BEGIN QUESTION -->\n",
    "\n",
    "### Question 5b: Visualize Error Bars 1\n",
    "\n",
    "Use `plt.errorbar` to create a new plot with error bars associated with the actual fraction of wins in each bin.  Again add a dashed y=x line.  Set the argument `fmt='.'` to create a scatterplot with errorbars.\n",
    "\n",
    "<!--\n",
    "BEGIN QUESTION\n",
    "name: q5b\n",
    "manual: true\n",
    "points: 5\n",
    "-->"
   ]
  },
  {
   "cell_type": "code",
   "execution_count": 26,
   "metadata": {},
   "outputs": [
    {
     "data": {
      "text/plain": [
       "Text(0, 0.5, 'Fraction of wins in each bin')"
      ]
     },
     "execution_count": 26,
     "metadata": {},
     "output_type": "execute_result"
    },
    {
     "data": {
      "image/png": "[encoded data removed]",
      "text/plain": [
       "<Figure size 640x480 with 1 Axes>"
      ]
     },
     "metadata": {},
     "output_type": "display_data"
    }
   ],
   "source": [
    "# Plotting code below\n",
    "plt.errorbar(midpoints, election_agg['mean'], yerr=election_agg['err'], fmt='.')\n",
    "plt.plot([0, 1], [0, 1], '--')\n",
    "plt.xlabel('Midpoints')\n",
    "plt.ylabel('Fraction of wins in each bin')"
   ]
  },
  {
   "cell_type": "markdown",
   "metadata": {
    "deletable": false,
    "editable": false
   },
   "source": [
    "<!-- END QUESTION -->\n",
    "\n",
    "### Question 5c: Computing Coverage\n",
    "\n",
    "If our intervals were true 95% confidence intervals, then we would expect about 95% of them to cover the midpoint of the bin (i.e. overlap with the y=x line).\n",
    "\n",
    "What fraction of the 95% confidence intervals cover the bin midpoint?  Create a variable, `upper`, to be the `mean` + `err` and another, `lower`, to be `mean` - `err` (both `upper` and `lower` should pandas series). Next, compute `frac_covering` as the fraction of midpoints between `lower` and `upper`. \n",
    "\n",
    "<!--\n",
    "BEGIN QUESTION\n",
    "name: q5c\n",
    "manual: false\n",
    "points: 5\n",
    "-->"
   ]
  },
  {
   "cell_type": "code",
   "execution_count": 27,
   "metadata": {},
   "outputs": [],
   "source": [
    "upper = (election_agg['mean'] + election_agg['err'])\n",
    "lower = (election_agg['mean'] - election_agg['err'])\n",
    "\n",
    "frac_covering = ((midpoints < upper) & (midpoints > lower)).mean()"
   ]
  },
  {
   "cell_type": "code",
   "execution_count": 28,
   "metadata": {
    "deletable": false,
    "editable": false
   },
   "outputs": [
    {
     "data": {
      "text/html": [
       "<p><strong><pre style='display: inline;'>q5c</pre></strong> passed! 🌟</p>"
      ],
      "text/plain": [
       "q5c results: All test cases passed!"
      ]
     },
     "execution_count": 28,
     "metadata": {},
     "output_type": "execute_result"
    }
   ],
   "source": [
    "grader.check(\"q5c\")"
   ]
  },
  {
   "cell_type": "markdown",
   "metadata": {
    "deletable": false,
    "editable": false
   },
   "source": [
    "<!-- BEGIN QUESTION -->\n",
    "\n",
    "### Question 5d: Understanding Confidence Intervals\n",
    "\n",
    "Are the 95% confidence intervals generally larger or smaller for more confident predictions (e.g. the predictions closer to 0 or 1).  What are the factors that determine the length of the confidence intervals?\n",
    "\n",
    "<!--\n",
    "BEGIN QUESTION\n",
    "name: q5d\n",
    "manual: true\n",
    "points: 5\n",
    "-->"
   ]
  },
  {
   "cell_type": "markdown",
   "metadata": {},
   "source": [
    "The 95% confidence intervals are generally smaller for more confident predictions. Sample size, standard deviation (variation in the sample), and the confidence level are all factors that determine the length of the confidence intervals."
   ]
  },
  {
   "cell_type": "markdown",
   "metadata": {},
   "source": [
    "<!-- END QUESTION -->\n",
    "\n",
    "\n",
    "\n",
    "_Intentionally Blank_"
   ]
  },
  {
   "cell_type": "markdown",
   "metadata": {
    "deletable": false,
    "editable": false,
    "jp-MarkdownHeadingCollapsed": true,
    "tags": []
   },
   "source": [
    "### (PSTAT 234) Question 5e: Empirical Uncertainty Estimation\n",
    "\n",
    "Model-based error bars were calculated by assuming that election outcomes are Binomial random variables. However, we can also estimate the error bars from resampling the data. This can be useful if we do not have a good distributional about the election outcomes, for example.\n",
    "\n",
    "Write a function named `bootstrap_data_means` that can take a data frame, say `data_in`, as input. Suppose `data_in` has `n` rows. Inside `bootstrap_data_means` function, you will\n",
    "\n",
    "* [`numpy.random.Generator.choice`](https://docs.scipy.org/doc/numpy/reference/random/generated/numpy.random.Generator.choice.html?highlight=random%20choice#numpy.random.Generator.choice): Select `n`-rows of `data_in` at random _with replacement_, creating a pseudo-dataset\n",
    "* `agg`: Group by each `bin`, compute probabilities of success for each pseudo-dataset as you have done\n",
    "\n",
    "\n",
    "Then, run the function `bootstrap_data_means` function 100 times, storing the resulting 100 DataFrames in a list. Then, create a data frame `bootstrap_election_100_agg` using `pandas.concat`:\n",
    "\n",
    "* Python list comprehension: https://docs.python.org/3/tutorial/datastructures.html#list-comprehensions\n",
    "* [`pandas.concat`](https://pandas.pydata.org/pandas-docs/stable/reference/api/pandas.concat.html): Concatenate many DataFrames together.  \n",
    "    Especially, the example, _Combine two DataFrame objects with identical columns._, in https://pandas.pydata.org/pandas-docs/stable/reference/api/pandas.concat.html could be helpful.\n",
    "\n",
    "<!--\n",
    "BEGIN QUESTION\n",
    "name: q5e\n",
    "manual: false\n",
    "points: 5\n",
    "-->"
   ]
  },
  {
   "cell_type": "code",
   "execution_count": 29,
   "metadata": {},
   "outputs": [],
   "source": [
    "def bootstrap_data_means(data_in):\n",
    "    \n",
    "    from numpy.random import choice\n",
    "    \n",
    "    n = len(data_in)\n",
    "    \n",
    "    # randomly sample row indices with replacement\n",
    "    indx = ...\n",
    "    # compute probabilities of success\n",
    "    bootstrap_means = ...\n",
    "    \n",
    "    return(bootstrap_means)\n",
    "\n",
    "bootstrap_election_100_agg = ..."
   ]
  },
  {
   "cell_type": "code",
   "execution_count": 30,
   "metadata": {
    "deletable": false,
    "editable": false
   },
   "outputs": [
    {
     "ename": "FileNotFoundError",
     "evalue": "Test q5e does not exist",
     "output_type": "error",
     "traceback": [
      "\u001b[0;31m---------------------------------------------------------------------------\u001b[0m",
      "\u001b[0;31mFileNotFoundError\u001b[0m                         Traceback (most recent call last)",
      "Cell \u001b[0;32mIn[30], line 1\u001b[0m\n\u001b[0;32m----> 1\u001b[0m \u001b[43mgrader\u001b[49m\u001b[38;5;241;43m.\u001b[39;49m\u001b[43mcheck\u001b[49m\u001b[43m(\u001b[49m\u001b[38;5;124;43m\"\u001b[39;49m\u001b[38;5;124;43mq5e\u001b[39;49m\u001b[38;5;124;43m\"\u001b[39;49m\u001b[43m)\u001b[49m\n",
      "File \u001b[0;32m/opt/conda/lib/python3.10/site-packages/otter/check/utils.py:193\u001b[0m, in \u001b[0;36mlogs_event.<locals>.event_logger\u001b[0;34m(wrapped, self, args, kwargs)\u001b[0m\n\u001b[1;32m    191\u001b[0m \u001b[38;5;28;01mexcept\u001b[39;00m \u001b[38;5;167;01mException\u001b[39;00m \u001b[38;5;28;01mas\u001b[39;00m e:\n\u001b[1;32m    192\u001b[0m     \u001b[38;5;28mself\u001b[39m\u001b[38;5;241m.\u001b[39m_log_event(event_type, success\u001b[38;5;241m=\u001b[39m\u001b[38;5;28;01mFalse\u001b[39;00m, error\u001b[38;5;241m=\u001b[39me)\n\u001b[0;32m--> 193\u001b[0m     \u001b[38;5;28;01mraise\u001b[39;00m e\n\u001b[1;32m    195\u001b[0m \u001b[38;5;28;01melse\u001b[39;00m:\n\u001b[1;32m    196\u001b[0m     \u001b[38;5;28mself\u001b[39m\u001b[38;5;241m.\u001b[39m_log_event(event_type, results\u001b[38;5;241m=\u001b[39mresults, question\u001b[38;5;241m=\u001b[39mquestion, shelve_env\u001b[38;5;241m=\u001b[39mshelve_env)\n",
      "File \u001b[0;32m/opt/conda/lib/python3.10/site-packages/otter/check/utils.py:184\u001b[0m, in \u001b[0;36mlogs_event.<locals>.event_logger\u001b[0;34m(wrapped, self, args, kwargs)\u001b[0m\n\u001b[1;32m    182\u001b[0m \u001b[38;5;28;01mtry\u001b[39;00m:\n\u001b[1;32m    183\u001b[0m     \u001b[38;5;28;01mif\u001b[39;00m event_type \u001b[38;5;241m==\u001b[39m EventType\u001b[38;5;241m.\u001b[39mCHECK:\n\u001b[0;32m--> 184\u001b[0m         question, results, shelve_env \u001b[38;5;241m=\u001b[39m \u001b[43mwrapped\u001b[49m\u001b[43m(\u001b[49m\u001b[38;5;241;43m*\u001b[39;49m\u001b[43margs\u001b[49m\u001b[43m,\u001b[49m\u001b[43m \u001b[49m\u001b[38;5;241;43m*\u001b[39;49m\u001b[38;5;241;43m*\u001b[39;49m\u001b[43mkwargs\u001b[49m\u001b[43m)\u001b[49m\n\u001b[1;32m    186\u001b[0m     \u001b[38;5;28;01melse\u001b[39;00m:\n\u001b[1;32m    187\u001b[0m         results \u001b[38;5;241m=\u001b[39m wrapped(\u001b[38;5;241m*\u001b[39margs, \u001b[38;5;241m*\u001b[39m\u001b[38;5;241m*\u001b[39mkwargs)\n",
      "File \u001b[0;32m/opt/conda/lib/python3.10/site-packages/otter/check/notebook.py:201\u001b[0m, in \u001b[0;36mNotebook.check\u001b[0;34m(self, question, global_env)\u001b[0m\n\u001b[1;32m    188\u001b[0m \u001b[38;5;250m\u001b[39m\u001b[38;5;124;03m\"\"\"\u001b[39;00m\n\u001b[1;32m    189\u001b[0m \u001b[38;5;124;03mRuns tests for a specific question against a global environment. If no global environment\u001b[39;00m\n\u001b[1;32m    190\u001b[0m \u001b[38;5;124;03mis provided, the test is run against the calling frame's environment.\u001b[39;00m\n\u001b[0;32m   (...)\u001b[0m\n\u001b[1;32m    198\u001b[0m \u001b[38;5;124;03m    ``otter.test_files.abstract_test.TestFile``: the grade for the question\u001b[39;00m\n\u001b[1;32m    199\u001b[0m \u001b[38;5;124;03m\"\"\"\u001b[39;00m\n\u001b[1;32m    200\u001b[0m \u001b[38;5;28mself\u001b[39m\u001b[38;5;241m.\u001b[39m_logger\u001b[38;5;241m.\u001b[39minfo(\u001b[38;5;124mf\u001b[39m\u001b[38;5;124m\"\u001b[39m\u001b[38;5;124mRunning check for question: \u001b[39m\u001b[38;5;132;01m{\u001b[39;00mquestion\u001b[38;5;132;01m}\u001b[39;00m\u001b[38;5;124m\"\u001b[39m)\n\u001b[0;32m--> 201\u001b[0m test_path, test_name \u001b[38;5;241m=\u001b[39m \u001b[43mresolve_test_info\u001b[49m\u001b[43m(\u001b[49m\n\u001b[1;32m    202\u001b[0m \u001b[43m    \u001b[49m\u001b[38;5;28;43mself\u001b[39;49m\u001b[38;5;241;43m.\u001b[39;49m\u001b[43m_path\u001b[49m\u001b[43m,\u001b[49m\n\u001b[1;32m    203\u001b[0m \u001b[43m    \u001b[49m\u001b[38;5;28;43mself\u001b[39;49m\u001b[38;5;241;43m.\u001b[39;49m\u001b[43m_resolve_nb_path\u001b[49m\u001b[43m(\u001b[49m\u001b[38;5;28;43;01mNone\u001b[39;49;00m\u001b[43m,\u001b[49m\u001b[43m \u001b[49m\u001b[43mfail_silently\u001b[49m\u001b[38;5;241;43m=\u001b[39;49m\u001b[38;5;28;43;01mTrue\u001b[39;49;00m\u001b[43m)\u001b[49m\u001b[43m,\u001b[49m\n\u001b[1;32m    204\u001b[0m \u001b[43m    \u001b[49m\u001b[38;5;28;43mself\u001b[39;49m\u001b[38;5;241;43m.\u001b[39;49m\u001b[43m_tests_url_prefix\u001b[49m\u001b[43m,\u001b[49m\n\u001b[1;32m    205\u001b[0m \u001b[43m    \u001b[49m\u001b[43mquestion\u001b[49m\u001b[43m,\u001b[49m\n\u001b[1;32m    206\u001b[0m \u001b[43m\u001b[49m\u001b[43m)\u001b[49m\n\u001b[1;32m    208\u001b[0m \u001b[38;5;28mself\u001b[39m\u001b[38;5;241m.\u001b[39m_logger\u001b[38;5;241m.\u001b[39mdebug(\u001b[38;5;124mf\u001b[39m\u001b[38;5;124m\"\u001b[39m\u001b[38;5;124mResolved test path: \u001b[39m\u001b[38;5;132;01m{\u001b[39;00mtest_path\u001b[38;5;132;01m}\u001b[39;00m\u001b[38;5;124m\"\u001b[39m)\n\u001b[1;32m    209\u001b[0m \u001b[38;5;28mself\u001b[39m\u001b[38;5;241m.\u001b[39m_logger\u001b[38;5;241m.\u001b[39mdebug(\u001b[38;5;124mf\u001b[39m\u001b[38;5;124m\"\u001b[39m\u001b[38;5;124mResolved test name: \u001b[39m\u001b[38;5;132;01m{\u001b[39;00mtest_name\u001b[38;5;132;01m}\u001b[39;00m\u001b[38;5;124m\"\u001b[39m)\n",
      "File \u001b[0;32m/opt/conda/lib/python3.10/site-packages/otter/check/utils.py:267\u001b[0m, in \u001b[0;36mresolve_test_info\u001b[0;34m(tests_dir, nb_path, tests_url_prefix, question)\u001b[0m\n\u001b[1;32m    265\u001b[0m \u001b[38;5;28;01melif\u001b[39;00m tests_dir \u001b[38;5;129;01mand\u001b[39;00m os\u001b[38;5;241m.\u001b[39mpath\u001b[38;5;241m.\u001b[39misdir(tests_dir):\n\u001b[1;32m    266\u001b[0m     \u001b[38;5;28;01mif\u001b[39;00m \u001b[38;5;129;01mnot\u001b[39;00m os\u001b[38;5;241m.\u001b[39mpath\u001b[38;5;241m.\u001b[39misfile(os\u001b[38;5;241m.\u001b[39mpath\u001b[38;5;241m.\u001b[39mjoin(tests_dir, question \u001b[38;5;241m+\u001b[39m \u001b[38;5;124m\"\u001b[39m\u001b[38;5;124m.py\u001b[39m\u001b[38;5;124m\"\u001b[39m)):\n\u001b[0;32m--> 267\u001b[0m         \u001b[38;5;28;01mraise\u001b[39;00m \u001b[38;5;167;01mFileNotFoundError\u001b[39;00m(\u001b[38;5;124mf\u001b[39m\u001b[38;5;124m\"\u001b[39m\u001b[38;5;124mTest \u001b[39m\u001b[38;5;132;01m{\u001b[39;00mquestion\u001b[38;5;132;01m}\u001b[39;00m\u001b[38;5;124m does not exist\u001b[39m\u001b[38;5;124m\"\u001b[39m)\n\u001b[1;32m    269\u001b[0m     test_path \u001b[38;5;241m=\u001b[39m os\u001b[38;5;241m.\u001b[39mpath\u001b[38;5;241m.\u001b[39mjoin(tests_dir, question \u001b[38;5;241m+\u001b[39m \u001b[38;5;124m\"\u001b[39m\u001b[38;5;124m.py\u001b[39m\u001b[38;5;124m\"\u001b[39m)\n\u001b[1;32m    270\u001b[0m     test_name \u001b[38;5;241m=\u001b[39m \u001b[38;5;28;01mNone\u001b[39;00m\n",
      "\u001b[0;31mFileNotFoundError\u001b[0m: Test q5e does not exist"
     ]
    }
   ],
   "source": [
    "grader.check(\"q5e\")"
   ]
  },
  {
   "cell_type": "markdown",
   "metadata": {
    "deletable": false,
    "editable": false
   },
   "source": [
    "<!-- BEGIN QUESTION -->\n",
    "\n",
    "### (PSTAT 234) Question 5f. Visualize Error Bars 2\n",
    "\n",
    "By now, we have a distribution of success probabilities saved in `bootstrap_election_agg`. We can compute empirical error bars from 2.5% and 97.5% quantiles. Write function named `bootstrap_error_bars` that can be used to calculate the following columns:\n",
    "\n",
    "* `mean`: mean of probabilities of success\n",
    "* `err_low`: low point of the error bars\n",
    "* `err_high`: high point of the error bars\n",
    "\n",
    "Funtion `bootstrap_error_bars` is to be called by using `bootstrap_election_100_agg.apply(bootstrap_error_bars, ...)`.\n",
    "\n",
    "<!--\n",
    "BEGIN QUESTION\n",
    "name: q5f\n",
    "manual: true\n",
    "points: 5\n",
    "-->"
   ]
  },
  {
   "cell_type": "code",
   "execution_count": null,
   "metadata": {},
   "outputs": [],
   "source": [
    "def bootstrap_error_bars(x):\n",
    "    out = pd.Series([x.mean(), x.mean()-x.quantile(0.025), x.quantile(0.975)-x.mean()], \n",
    "                    index=['mean', 'err_low', 'err_high'])\n",
    "    return(out)"
   ]
  },
  {
   "cell_type": "markdown",
   "metadata": {},
   "source": [
    "<!-- END QUESTION -->\n",
    "\n",
    "\n",
    "\n",
    "Use [`pandas.DataFrame.apply`](https://pandas.pydata.org/pandas-docs/stable/reference/api/pandas.DataFrame.apply.html) and `bootstrap_error_bars` functions to calculate and visualize the error bars.\n",
    "\n",
    "In addition, to the figure code used in 5b, add horizontal lines at 0 and 1."
   ]
  },
  {
   "cell_type": "code",
   "execution_count": null,
   "metadata": {},
   "outputs": [],
   "source": [
    "# calculate error bars\n",
    "bootstrap_election_agg = ...\n",
    "\n",
    "plt.figure(figsize=(10, 10))\n",
    "plt.errorbar(midpoints, \n",
    "             election_agg['mean'].values, \n",
    "             yerr=election_agg['err'].values, \n",
    "             fmt='.', elinewidth=3, ms=20, \n",
    "             capsize=5, capthick=3)\n",
    "plt.plot([0, 1], [0, 1], '--')\n",
    "plt.plot([0, 1], [1, 1], ':r')\n",
    "plt.plot([0, 1], [0, 0], ':r')\n",
    "plt.xlabel(\"Predicted Win Probability\")\n",
    "plt.ylabel(\"Observed Win Probability\")\n",
    "# Overlay empirical error bars on the same plot. Use the following \n",
    "# visual attributes: \n",
    "# ..., fmt='.r', elinewidth=1, ms=10, ecolor='red', capsize=5, ...\n",
    "# Also, yerr can accept asymmetric errorbars (see the documentation for usage)\n",
    "...\n",
    "plt.show()"
   ]
  },
  {
   "cell_type": "markdown",
   "metadata": {
    "deletable": false,
    "editable": false
   },
   "source": [
    "<!-- BEGIN QUESTION -->\n",
    "\n",
    "### (PSTAT 234) Question 5g: Interpreting the Results\n",
    "\n",
    "Are the 95% confidence intervals generally larger or smaller for more confident predictions (e.g. the predictions closer to 0 or 1).  What are the factors that determine the length of the error bars?\n",
    "\n",
    "Compare and contrast model-based error bars and empirically obtained error bars. What are the advantages and disadvantages of these two approaches?\n",
    "\n",
    "<!--\n",
    "BEGIN QUESTION\n",
    "name: q5g\n",
    "manual: true\n",
    "points: 5\n",
    "-->"
   ]
  },
  {
   "cell_type": "markdown",
   "metadata": {},
   "source": [
    "_Type your answer here, replacing this text._"
   ]
  },
  {
   "cell_type": "markdown",
   "metadata": {},
   "source": [
    "<!-- END QUESTION -->\n",
    "\n",
    "\n",
    "\n",
    "_Intentionally Blank_"
   ]
  },
  {
   "cell_type": "markdown",
   "metadata": {
    "deletable": false,
    "editable": false
   },
   "source": [
    "---\n",
    "\n",
    "To double-check your work, the cell below will rerun all of the autograder tests."
   ]
  },
  {
   "cell_type": "markdown",
   "metadata": {
    "deletable": false,
    "editable": false
   },
   "source": [
    "## Submission\n",
    "\n",
    "Make sure you have run all cells in your notebook in order before running the cell below, so that all images/graphs appear in the output. The cell below will generate a zip file for you to submit. **Please save before exporting!**"
   ]
  },
  {
   "cell_type": "code",
   "execution_count": null,
   "metadata": {
    "deletable": false,
    "editable": false
   },
   "outputs": [],
   "source": [
    "grader.check_all()"
   ]
  },
  {
   "cell_type": "code",
   "execution_count": null,
   "metadata": {
    "deletable": false,
    "editable": false
   },
   "outputs": [],
   "source": [
    "# Save your notebook first, then run this cell to export your submission.\n",
    "grader.export()"
   ]
  },
  {
   "cell_type": "markdown",
   "metadata": {},
   "source": [
    " "
   ]
  }
 ],
 "metadata": {
  "kernelspec": {
   "display_name": "Python 3 (ipykernel)",
   "language": "python",
   "name": "python3"
  },
  "language_info": {
   "codemirror_mode": {
    "name": "ipython",
    "version": 3
   },
   "file_extension": ".py",
   "mimetype": "text/x-python",
   "name": "python",
   "nbconvert_exporter": "python",
   "pygments_lexer": "ipython3",
   "version": "3.10.9"
  },
  "vscode": {
   "interpreter": {
    "hash": "d4d1e4263499bec80672ea0156c357c1ee493ec2b1c70f0acce89fc37c4a6abe"
   }
  }
 },
 "nbformat": 4,
 "nbformat_minor": 4
}
